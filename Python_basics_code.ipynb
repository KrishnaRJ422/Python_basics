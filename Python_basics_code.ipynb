{
 "cells": [
  {
   "cell_type": "markdown",
   "id": "6bcd47fa",
   "metadata": {},
   "source": [
    "<h1 style=\"text-align: center;color:blue\">PYTHON BASICS</h1>\n",
    "<h4 style=\"text-align: right;color:green\">By: Krishna Ravali J</h4>"
   ]
  },
  {
   "cell_type": "markdown",
   "id": "fc1b002b",
   "metadata": {},
   "source": [
    "#### Commenting"
   ]
  },
  {
   "cell_type": "code",
   "execution_count": 12,
   "id": "4838d95c",
   "metadata": {},
   "outputs": [
    {
     "data": {
      "text/plain": [
       "1"
      ]
     },
     "execution_count": 12,
     "metadata": {},
     "output_type": "execute_result"
    }
   ],
   "source": [
    "#single line commenting\n",
    "1"
   ]
  },
  {
   "cell_type": "code",
   "execution_count": 11,
   "id": "43185edc",
   "metadata": {},
   "outputs": [
    {
     "data": {
      "text/plain": [
       "5"
      ]
     },
     "execution_count": 11,
     "metadata": {},
     "output_type": "execute_result"
    }
   ],
   "source": [
    "\"\"\"multi\n",
    "line \n",
    "commenting\"\"\"\n",
    "2+3"
   ]
  },
  {
   "cell_type": "markdown",
   "id": "286ce3c5",
   "metadata": {},
   "source": [
    "#### Variable: \n",
    "A variable is a container for a value. It can be assigned a name, you can use it to refer to it later in the program.\n",
    "<br>Rule: Python variables can only begin with a letter(A-Z/a-z) or an underscore(_)\n",
    "<br>Based on the value assigned, the interpreter decides its data type. You can always store a different type in a variable.\n",
    "\n",
    "#### Data types:\n",
    "Most used data types in Python:\n",
    "* String\n",
    "* int, float\n",
    "* bool\n",
    "* list, tuple, set, dict"
   ]
  },
  {
   "cell_type": "markdown",
   "id": "4ceab345",
   "metadata": {},
   "source": [
    "#### Keywords in Python:\n",
    "Keywords in Python are reserved words that can not be used as a variable name, function name, or any other identifier."
   ]
  },
  {
   "cell_type": "code",
   "execution_count": 18,
   "id": "2d38b598",
   "metadata": {},
   "outputs": [
    {
     "name": "stdout",
     "output_type": "stream",
     "text": [
      "The list of keywords is : \n",
      "['False', 'None', 'True', '__peg_parser__', 'and', 'as', 'assert', 'async', 'await', 'break', 'class', 'continue', 'def', 'del', 'elif', 'else', 'except', 'finally', 'for', 'from', 'global', 'if', 'import', 'in', 'is', 'lambda', 'nonlocal', 'not', 'or', 'pass', 'raise', 'return', 'try', 'while', 'with', 'yield']\n"
     ]
    }
   ],
   "source": [
    "import keyword\n",
    "  \n",
    "# printing all keywords at once using \"kwlist()\"\n",
    "print(\"The list of keywords is : \")\n",
    "print(keyword.kwlist)"
   ]
  },
  {
   "cell_type": "markdown",
   "id": "06bae7da",
   "metadata": {},
   "source": [
    "#### Multi-line statement"
   ]
  },
  {
   "cell_type": "code",
   "execution_count": 16,
   "id": "a9251835",
   "metadata": {},
   "outputs": [
    {
     "data": {
      "text/plain": [
       "30"
      ]
     },
     "execution_count": 16,
     "metadata": {},
     "output_type": "execute_result"
    }
   ],
   "source": [
    "a=\\\n",
    "10\\\n",
    "+20\n",
    "a"
   ]
  },
  {
   "cell_type": "markdown",
   "id": "cd61522a",
   "metadata": {},
   "source": [
    "#### Multiple statements in one line"
   ]
  },
  {
   "cell_type": "code",
   "execution_count": 17,
   "id": "f2a5f5ac",
   "metadata": {},
   "outputs": [
    {
     "name": "stdout",
     "output_type": "stream",
     "text": [
      "5\n"
     ]
    }
   ],
   "source": [
    "a=5; print(a)"
   ]
  },
  {
   "cell_type": "markdown",
   "id": "26ee0ed0",
   "metadata": {},
   "source": [
    "#### CONDITIONAL STATEMENTS"
   ]
  },
  {
   "cell_type": "markdown",
   "id": "058743cf",
   "metadata": {},
   "source": [
    "#### Indentation in Python:\n",
    "Python indentation is a way of telling a Python interpreter that the group of statements belongs to a particular block of code. All statements with the same distance to the right belong to the same block of code."
   ]
  },
  {
   "cell_type": "code",
   "execution_count": 19,
   "id": "c8ac70c6",
   "metadata": {},
   "outputs": [
    {
     "name": "stdout",
     "output_type": "stream",
     "text": [
      "Person eligible for voting\n"
     ]
    }
   ],
   "source": [
    "age = 19\n",
    " \n",
    "if age >= 18 :\n",
    "    print('Person eligible for voting')\n",
    "else:\n",
    "    print('Person is not eligible for voting')"
   ]
  },
  {
   "cell_type": "markdown",
   "id": "1adf6c26",
   "metadata": {},
   "source": [
    "#### Type of python object"
   ]
  },
  {
   "cell_type": "markdown",
   "id": "30ec410c",
   "metadata": {},
   "source": [
    "from IPython.core.interactiveshell import InteractiveShell\n",
    "InteractiveShell.ast_node_interactivity = 'all'"
   ]
  },
  {
   "cell_type": "code",
   "execution_count": 29,
   "id": "1d1e24d3",
   "metadata": {},
   "outputs": [
    {
     "data": {
      "text/plain": [
       "int"
      ]
     },
     "execution_count": 29,
     "metadata": {},
     "output_type": "execute_result"
    },
    {
     "data": {
      "text/plain": [
       "str"
      ]
     },
     "execution_count": 29,
     "metadata": {},
     "output_type": "execute_result"
    },
    {
     "data": {
      "text/plain": [
       "bool"
      ]
     },
     "execution_count": 29,
     "metadata": {},
     "output_type": "execute_result"
    },
    {
     "data": {
      "text/plain": [
       "float"
      ]
     },
     "execution_count": 29,
     "metadata": {},
     "output_type": "execute_result"
    }
   ],
   "source": [
    "a=5\n",
    "b='goa'\n",
    "c=True\n",
    "d=0.98\n",
    "type(a)\n",
    "type(b)\n",
    "type(c)\n",
    "type(d)"
   ]
  },
  {
   "cell_type": "code",
   "execution_count": 30,
   "id": "b6e8c363",
   "metadata": {
    "scrolled": true
   },
   "outputs": [
    {
     "data": {
      "text/plain": [
       "False"
      ]
     },
     "execution_count": 30,
     "metadata": {},
     "output_type": "execute_result"
    },
    {
     "data": {
      "text/plain": [
       "True"
      ]
     },
     "execution_count": 30,
     "metadata": {},
     "output_type": "execute_result"
    }
   ],
   "source": [
    "isinstance(a,str)\n",
    "isinstance(a,int)"
   ]
  },
  {
   "cell_type": "markdown",
   "id": "00ce6261",
   "metadata": {},
   "source": [
    "#### Typecasting:\n",
    "Type casting is the process of converting one data type in a program to another one. Type conversion is another name for type casting."
   ]
  },
  {
   "cell_type": "code",
   "execution_count": 46,
   "id": "8f14aae4",
   "metadata": {},
   "outputs": [
    {
     "data": {
      "text/plain": [
       "3"
      ]
     },
     "execution_count": 46,
     "metadata": {},
     "output_type": "execute_result"
    },
    {
     "data": {
      "text/plain": [
       "4.0"
      ]
     },
     "execution_count": 46,
     "metadata": {},
     "output_type": "execute_result"
    },
    {
     "data": {
      "text/plain": [
       "0"
      ]
     },
     "execution_count": 46,
     "metadata": {},
     "output_type": "execute_result"
    },
    {
     "data": {
      "text/plain": [
       "12"
      ]
     },
     "execution_count": 46,
     "metadata": {},
     "output_type": "execute_result"
    }
   ],
   "source": [
    "p=3.456 #float\n",
    "int(p)\n",
    "q=4 #int\n",
    "float(q)\n",
    "r=False #bool\n",
    "int(r)\n",
    "s=\"12\" #string\n",
    "int(s)"
   ]
  },
  {
   "cell_type": "markdown",
   "id": "40019ee2",
   "metadata": {},
   "source": [
    "#### Passing input:\n",
    "input ( ) : This function first takes the input from the user and convert it into string. "
   ]
  },
  {
   "cell_type": "code",
   "execution_count": 21,
   "id": "ce405454",
   "metadata": {},
   "outputs": [
    {
     "name": "stdout",
     "output_type": "stream",
     "text": [
      "Enter your name: Hari\n",
      "Hello Hari\n"
     ]
    }
   ],
   "source": [
    "name=input(\"Enter your name: \")\n",
    "print(\"Hello\", name)"
   ]
  },
  {
   "cell_type": "code",
   "execution_count": 31,
   "id": "7e237497",
   "metadata": {},
   "outputs": [
    {
     "data": {
      "text/plain": [
       "str"
      ]
     },
     "execution_count": 31,
     "metadata": {},
     "output_type": "execute_result"
    }
   ],
   "source": [
    "type(name)"
   ]
  },
  {
   "cell_type": "markdown",
   "id": "ec4bdb31",
   "metadata": {},
   "source": [
    "#### Typecasting input"
   ]
  },
  {
   "cell_type": "code",
   "execution_count": 33,
   "id": "5bb2bbeb",
   "metadata": {},
   "outputs": [
    {
     "name": "stdout",
     "output_type": "stream",
     "text": [
      "Enter your salary: 25000\n",
      "Salary is:  25000\n"
     ]
    },
    {
     "data": {
      "text/plain": [
       "int"
      ]
     },
     "execution_count": 33,
     "metadata": {},
     "output_type": "execute_result"
    }
   ],
   "source": [
    "salary=int(input(\"Enter your salary: \"))\n",
    "print(\"Salary is: \",salary)\n",
    "type(salary)"
   ]
  },
  {
   "cell_type": "markdown",
   "id": "0ba66661",
   "metadata": {},
   "source": [
    "#### Taking multiple inputs:\n",
    "split(): This function helps in getting multiple inputs from users. It breaks the given input by the specified separator. If a separator is not provided then any white space is a separator. "
   ]
  },
  {
   "cell_type": "code",
   "execution_count": 47,
   "id": "3cb01952",
   "metadata": {},
   "outputs": [
    {
     "name": "stdout",
     "output_type": "stream",
     "text": [
      "Enter number of boys and girls in class 8: 45 56\n",
      "Number of boys:  45\n",
      "Number of girls:  56\n"
     ]
    }
   ],
   "source": [
    "#without seperator\n",
    "x, y = input(\"Enter number of boys and girls in class 8: \").split()\n",
    "print(\"Number of boys: \", x)\n",
    "print(\"Number of girls: \", y)"
   ]
  },
  {
   "cell_type": "code",
   "execution_count": 49,
   "id": "947a5ee4",
   "metadata": {},
   "outputs": [
    {
     "name": "stdout",
     "output_type": "stream",
     "text": [
      "Enter number of maths and science classes in class 8 per week: 3,5\n",
      "Number of maths classes:  3\n",
      "Number of science classes:  5\n"
     ]
    }
   ],
   "source": [
    "#with seperator\n",
    "x, y = input(\"Enter number of maths and science classes in class 8 per week: \").split(',')\n",
    "print(\"Number of maths classes: \", x)\n",
    "print(\"Number of science classes: \", y)"
   ]
  },
  {
   "cell_type": "markdown",
   "id": "97dd8e49",
   "metadata": {},
   "source": [
    "#### Taking multiple inputs with typecasting"
   ]
  },
  {
   "cell_type": "code",
   "execution_count": 54,
   "id": "5dede17e",
   "metadata": {},
   "outputs": [
    {
     "name": "stdout",
     "output_type": "stream",
     "text": [
      "Enter three input values: 23.4 4.6 2\n"
     ]
    },
    {
     "data": {
      "text/plain": [
       "23.4"
      ]
     },
     "execution_count": 54,
     "metadata": {},
     "output_type": "execute_result"
    },
    {
     "data": {
      "text/plain": [
       "4.6"
      ]
     },
     "execution_count": 54,
     "metadata": {},
     "output_type": "execute_result"
    },
    {
     "data": {
      "text/plain": [
       "2.0"
      ]
     },
     "execution_count": 54,
     "metadata": {},
     "output_type": "execute_result"
    }
   ],
   "source": [
    "r,s,t=map(float, input(\"Enter three input values: \").split())\n",
    "r\n",
    "s\n",
    "t"
   ]
  },
  {
   "cell_type": "code",
   "execution_count": 60,
   "id": "915fdcee",
   "metadata": {},
   "outputs": [
    {
     "name": "stdout",
     "output_type": "stream",
     "text": [
      "2 Red\n",
      "10 40\n",
      "Sun Moon Stars\n"
     ]
    }
   ],
   "source": [
    "a=2\n",
    "b=\"Red\"\n",
    "print(a,b)\n",
    "print(10,40)\n",
    "print(\"Sun\",\"Moon\",\"Stars\")\n"
   ]
  },
  {
   "cell_type": "markdown",
   "id": "98fe6286",
   "metadata": {},
   "source": [
    "#### Printing multiple values"
   ]
  },
  {
   "cell_type": "code",
   "execution_count": 62,
   "id": "7be8adab",
   "metadata": {},
   "outputs": [
    {
     "name": "stdout",
     "output_type": "stream",
     "text": [
      "Delivering a better tomorrow.\n"
     ]
    }
   ],
   "source": [
    "my_string = \"{} a better {}.\"\n",
    " \n",
    "print(my_string.format(\"Delivering\", \"tomorrow\"))"
   ]
  },
  {
   "cell_type": "code",
   "execution_count": 71,
   "id": "2750ab6b",
   "metadata": {},
   "outputs": [
    {
     "name": "stdout",
     "output_type": "stream",
     "text": [
      "Total score made by Rahul is 126 runs\n",
      "Total score made by Rahul is 126 runs\n",
      "Total score made by Rahul is 126 runs\n",
      "Total score made by Rahul is 126 runs\n",
      "Total score made by Rahul is 126 runs\n",
      "Total score made by Rahul is 126 runs\n"
     ]
    }
   ],
   "source": [
    "name=\"Rahul\"\n",
    "score=126\n",
    "print(\"Total score made by {} is {} runs\".format(name,score)) #string formatting\n",
    "print(\"Total score made by %s is %d runs\" %(name,score)) #pass as tuple\n",
    "print(\"Total score made by {1} is {0} runs\".format(score, name)) #string formatting with ordering\n",
    "print(\"Total score made by \" + str(name) + \" is \" + str(score) + \" runs\") #concatenate strings\n",
    "print(\"Total score made by\", name, \"is\", score, \"runs\") #pass values as parameters\n",
    "print(\"Total score made by %(n)s is %(s)s runs\" % {'n': name, 's': score})"
   ]
  },
  {
   "cell_type": "markdown",
   "id": "d4326a71",
   "metadata": {},
   "source": [
    "#### Printing in multiple lines"
   ]
  },
  {
   "cell_type": "code",
   "execution_count": 72,
   "id": "217721a7",
   "metadata": {},
   "outputs": [
    {
     "name": "stdout",
     "output_type": "stream",
     "text": [
      "Message, \n",
      " we are having a session on Python basics.\n"
     ]
    }
   ],
   "source": [
    "print(\"Message, \\n we are having a session on Python basics.\")"
   ]
  },
  {
   "cell_type": "markdown",
   "id": "31e87749",
   "metadata": {},
   "source": [
    "#### Printing with a seperator"
   ]
  },
  {
   "cell_type": "code",
   "execution_count": 74,
   "id": "6799cc8a",
   "metadata": {},
   "outputs": [
    {
     "name": "stdout",
     "output_type": "stream",
     "text": [
      "17-Jun-2022\n"
     ]
    }
   ],
   "source": [
    "print('17','Jun','2022', sep='-')"
   ]
  },
  {
   "cell_type": "markdown",
   "id": "509d10d0",
   "metadata": {},
   "source": [
    "#### Indexing & Slicing:\n",
    "* “Indexing” means referring to an element of an iterable by its position within the iterable. \n",
    "* “Slicing” means getting a subset of elements from an iterable based on their indices."
   ]
  },
  {
   "cell_type": "markdown",
   "id": "d7f7f104",
   "metadata": {},
   "source": [
    "#### Strings"
   ]
  },
  {
   "cell_type": "code",
   "execution_count": 78,
   "id": "459b8ba6",
   "metadata": {},
   "outputs": [
    {
     "data": {
      "text/plain": [
       "'Hello, Team! How are you doing?'"
      ]
     },
     "execution_count": 78,
     "metadata": {},
     "output_type": "execute_result"
    },
    {
     "data": {
      "text/plain": [
       "str"
      ]
     },
     "execution_count": 78,
     "metadata": {},
     "output_type": "execute_result"
    }
   ],
   "source": [
    "s=\"Hello, Team! How are you doing?\"\n",
    "s\n",
    "type(s)"
   ]
  },
  {
   "cell_type": "code",
   "execution_count": 77,
   "id": "ccd3cf75",
   "metadata": {},
   "outputs": [
    {
     "data": {
      "text/plain": [
       "12"
      ]
     },
     "execution_count": 77,
     "metadata": {},
     "output_type": "execute_result"
    }
   ],
   "source": [
    "len(s) #length of string"
   ]
  },
  {
   "cell_type": "code",
   "execution_count": 81,
   "id": "c7dae6da",
   "metadata": {},
   "outputs": [
    {
     "data": {
      "text/plain": [
       "True"
      ]
     },
     "execution_count": 81,
     "metadata": {},
     "output_type": "execute_result"
    },
    {
     "data": {
      "text/plain": [
       "False"
      ]
     },
     "execution_count": 81,
     "metadata": {},
     "output_type": "execute_result"
    }
   ],
   "source": [
    "#check for a string\n",
    "\"are\" in s \n",
    "\"How\" not in s"
   ]
  },
  {
   "cell_type": "code",
   "execution_count": 90,
   "id": "8b511481",
   "metadata": {},
   "outputs": [
    {
     "data": {
      "text/plain": [
       "'H'"
      ]
     },
     "execution_count": 90,
     "metadata": {},
     "output_type": "execute_result"
    },
    {
     "data": {
      "text/plain": [
       "'?'"
      ]
     },
     "execution_count": 90,
     "metadata": {},
     "output_type": "execute_result"
    },
    {
     "data": {
      "text/plain": [
       "'n'"
      ]
     },
     "execution_count": 90,
     "metadata": {},
     "output_type": "execute_result"
    }
   ],
   "source": [
    "#indexing string\n",
    "s[0]\n",
    "s[-1] #reverse indexing\n",
    "s[-3]"
   ]
  },
  {
   "cell_type": "code",
   "execution_count": null,
   "id": "250fa34a",
   "metadata": {},
   "outputs": [],
   "source": [
    "#slicing string\n",
    "p=\"abcdefghijklmn\"\n",
    "p[:3] #includes elements in 0,1,2 indices\n",
    "p[0:2] #include elements in 0,1 indices\n",
    "p[1:8:2] # prints every second element from index 1 to 7; syntax is variable(start:stop:step)\n",
    "p[::2] #prints every second element in whole string\n",
    "p[::-1] #reverse a string\n",
    "p[-2::-1] #reversing a string leaving out one element at beginning\n",
    "p[-2:0:-1] #reversing a string leaving out one element at beginning and end"
   ]
  },
  {
   "cell_type": "markdown",
   "id": "2e1f3c4d",
   "metadata": {},
   "source": [
    "#### String Methods"
   ]
  },
  {
   "cell_type": "code",
   "execution_count": 108,
   "id": "f585771c",
   "metadata": {},
   "outputs": [
    {
     "data": {
      "text/plain": [
       "'DELL IS A COMPUTER TECHNOLOGY COMPANY BASED IN ROUND ROCK, TEXAS, UNITED STATES.'"
      ]
     },
     "execution_count": 108,
     "metadata": {},
     "output_type": "execute_result"
    },
    {
     "data": {
      "text/plain": [
       "'Dell is a computer technology company based in round rock, texas, united states.'"
      ]
     },
     "execution_count": 108,
     "metadata": {},
     "output_type": "execute_result"
    },
    {
     "data": {
      "text/plain": [
       "'dell is a computer technology company based in round rock, texas, united states.'"
      ]
     },
     "execution_count": 108,
     "metadata": {},
     "output_type": "execute_result"
    }
   ],
   "source": [
    "#string methods\n",
    "q=\"Dell is a computer technology company based in Round Rock, Texas, United States.\"\n",
    "q.upper()\n",
    "q.capitalize()\n",
    "q.lower()"
   ]
  },
  {
   "cell_type": "code",
   "execution_count": 109,
   "id": "bdd5a78a",
   "metadata": {},
   "outputs": [
    {
     "data": {
      "text/plain": [
       "'Dell is a computer technology company based in Round Rock, Texas, United States.'"
      ]
     },
     "execution_count": 109,
     "metadata": {},
     "output_type": "execute_result"
    },
    {
     "data": {
      "text/plain": [
       "False"
      ]
     },
     "execution_count": 109,
     "metadata": {},
     "output_type": "execute_result"
    }
   ],
   "source": [
    "q\n",
    "q.islower() #returns True if all the characters are in lower case, otherwise False; Numbers, symbols and spaces are not checked, only alphabet characters."
   ]
  },
  {
   "cell_type": "code",
   "execution_count": 142,
   "id": "0ae70a5a",
   "metadata": {},
   "outputs": [
    {
     "data": {
      "text/plain": [
       "True"
      ]
     },
     "execution_count": 142,
     "metadata": {},
     "output_type": "execute_result"
    },
    {
     "data": {
      "text/plain": [
       "['Hello', 'my name is Sam', 'I am 26 years old.']"
      ]
     },
     "execution_count": 142,
     "metadata": {},
     "output_type": "execute_result"
    },
    {
     "data": {
      "text/plain": [
       "',,,Sun is a star,,,'"
      ]
     },
     "execution_count": 142,
     "metadata": {},
     "output_type": "execute_result"
    },
    {
     "data": {
      "text/plain": [
       "'Sun is a star'"
      ]
     },
     "execution_count": 142,
     "metadata": {},
     "output_type": "execute_result"
    },
    {
     "data": {
      "text/plain": [
       "' ,,,Sun is a star,,,  '"
      ]
     },
     "execution_count": 142,
     "metadata": {},
     "output_type": "execute_result"
    }
   ],
   "source": [
    "t=\"12345\"\n",
    "t.isnumeric()\n",
    "txt = \"Hello, my name is Sam, I am 26 years old.\"\n",
    "txt.split(\", \") #method splits a string into a list; You can specify the separator, default separator is any whitespace.\n",
    "msg=\" ,,,Sun is a star,,,  \"\n",
    "msg.strip() #Remove characters at the beginning and at the end of the string: default whitespaces\n",
    "msg.strip(\" .,\")\n",
    "msg"
   ]
  },
  {
   "cell_type": "code",
   "execution_count": 105,
   "id": "1d298326",
   "metadata": {},
   "outputs": [
    {
     "data": {
      "text/plain": [
       "'DELL IS A COMPUTER TECHNOLOGY COMPANY BASED IN ROUND ROCK, TEXAS, UNITED STATES.'"
      ]
     },
     "execution_count": 105,
     "metadata": {},
     "output_type": "execute_result"
    },
    {
     "data": {
      "text/plain": [
       "'Dell is a computer technology company based in round rock, texas, united states.'"
      ]
     },
     "execution_count": 105,
     "metadata": {},
     "output_type": "execute_result"
    },
    {
     "data": {
      "text/plain": [
       "'dell is a computer technology company based in round rock, texas, united states.'"
      ]
     },
     "execution_count": 105,
     "metadata": {},
     "output_type": "execute_result"
    },
    {
     "data": {
      "text/plain": [
       "3"
      ]
     },
     "execution_count": 105,
     "metadata": {},
     "output_type": "execute_result"
    },
    {
     "data": {
      "text/plain": [
       "36"
      ]
     },
     "execution_count": 105,
     "metadata": {},
     "output_type": "execute_result"
    },
    {
     "data": {
      "text/plain": [
       "-1"
      ]
     },
     "execution_count": 105,
     "metadata": {},
     "output_type": "execute_result"
    },
    {
     "data": {
      "text/plain": [
       "36"
      ]
     },
     "execution_count": 105,
     "metadata": {},
     "output_type": "execute_result"
    },
    {
     "ename": "ValueError",
     "evalue": "substring not found",
     "output_type": "error",
     "traceback": [
      "\u001b[1;31m---------------------------------------------------------------------------\u001b[0m",
      "\u001b[1;31mValueError\u001b[0m                                Traceback (most recent call last)",
      "\u001b[1;32mC:\\Users\\KRISHN~1\\AppData\\Local\\Temp/ipykernel_13980/3607363078.py\u001b[0m in \u001b[0;36m<module>\u001b[1;34m\u001b[0m\n\u001b[0;32m      9\u001b[0m \u001b[0mq\u001b[0m\u001b[1;33m.\u001b[0m\u001b[0mfind\u001b[0m\u001b[1;33m(\u001b[0m\u001b[1;34m\"war\"\u001b[0m\u001b[1;33m)\u001b[0m\u001b[1;33m\u001b[0m\u001b[1;33m\u001b[0m\u001b[0m\n\u001b[0;32m     10\u001b[0m \u001b[0mq\u001b[0m\u001b[1;33m.\u001b[0m\u001b[0mindex\u001b[0m\u001b[1;33m(\u001b[0m\u001b[1;34m\"for\"\u001b[0m\u001b[1;33m)\u001b[0m \u001b[1;31m#finds the first occurrence of the specified value; method raises an exception if the value is not found.\u001b[0m\u001b[1;33m\u001b[0m\u001b[1;33m\u001b[0m\u001b[0m\n\u001b[1;32m---> 11\u001b[1;33m \u001b[0mq\u001b[0m\u001b[1;33m.\u001b[0m\u001b[0mindex\u001b[0m\u001b[1;33m(\u001b[0m\u001b[1;34m\"war\"\u001b[0m\u001b[1;33m)\u001b[0m\u001b[1;33m\u001b[0m\u001b[1;33m\u001b[0m\u001b[0m\n\u001b[0m",
      "\u001b[1;31mValueError\u001b[0m: substring not found"
     ]
    }
   ],
   "source": [
    "q=\"I scream, you scream, we all scream for ice cream!\"\n",
    "q.count(\"scream\") #Returns the number of times a specified value occurs in a string\n",
    "q.find(\"for\") #finds the first occurrence of the specified value; returns -1 if the value is not found.\n",
    "q.find(\"war\")\n",
    "q.index(\"for\") #finds the first occurrence of the specified value; method raises an exception if the value is not found.\n",
    "q.index(\"war\")"
   ]
  },
  {
   "cell_type": "markdown",
   "id": "d01e953f",
   "metadata": {},
   "source": [
    "#### String concatenation"
   ]
  },
  {
   "cell_type": "code",
   "execution_count": 125,
   "id": "0946176a",
   "metadata": {},
   "outputs": [
    {
     "name": "stdout",
     "output_type": "stream",
     "text": [
      "Hello World\n",
      "Hello World\n"
     ]
    }
   ],
   "source": [
    "# Defining strings\n",
    "x = \"Hello \"\n",
    "y = \"World\"\n",
    " \n",
    "# + Operator is used to combine strings\n",
    "z= x + y\n",
    "print(z)\n",
    "print(\"\".join([x, y])) # join() method is a string method and returns a string in which the elements of sequence have been joined by str separator."
   ]
  },
  {
   "cell_type": "markdown",
   "id": "824cf284",
   "metadata": {},
   "source": [
    "#### Boolean:\n",
    "Booleans represent one of two values: True or False."
   ]
  },
  {
   "cell_type": "code",
   "execution_count": 121,
   "id": "12577f34",
   "metadata": {},
   "outputs": [
    {
     "data": {
      "text/plain": [
       "True"
      ]
     },
     "execution_count": 121,
     "metadata": {},
     "output_type": "execute_result"
    },
    {
     "data": {
      "text/plain": [
       "False"
      ]
     },
     "execution_count": 121,
     "metadata": {},
     "output_type": "execute_result"
    }
   ],
   "source": [
    "10>9\n",
    "2==4"
   ]
  },
  {
   "cell_type": "markdown",
   "id": "ef9107a6",
   "metadata": {},
   "source": [
    "There are four collection data types in the Python programming language:\n",
    "\n",
    "* List is a collection which is ordered and changeable. Allows duplicate members.\n",
    "* Tuple is a collection which is ordered and unchangeable. Allows duplicate members.\n",
    "* Set is a collection which is unordered, unchangeable*, and unindexed. No duplicate members.\n",
    "* Dictionary is a collection which is ordered** and changeable. No duplicate members."
   ]
  },
  {
   "cell_type": "markdown",
   "id": "441ff941",
   "metadata": {},
   "source": [
    "#### Lists:\n",
    "The list is a most versatile datatype available in Python which can be written as a list of comma-separated values (items) between square brackets. \n",
    "* Elements of list need not be of the same type.\n",
    "* Lists are ordered.\n",
    "* List elements can be accessed by index.\n",
    "* Lists are mutable(state of object can be altered)\n",
    "* Allows duplicates"
   ]
  },
  {
   "cell_type": "code",
   "execution_count": 154,
   "id": "ab47bc6a",
   "metadata": {},
   "outputs": [
    {
     "data": {
      "text/plain": [
       "list"
      ]
     },
     "execution_count": 154,
     "metadata": {},
     "output_type": "execute_result"
    }
   ],
   "source": [
    "#creating empty list\n",
    "e_lst=[]\n",
    "type(e_lst)"
   ]
  },
  {
   "cell_type": "code",
   "execution_count": 181,
   "id": "100d381d",
   "metadata": {},
   "outputs": [
    {
     "data": {
      "text/plain": [
       "['apple', 'banana', 'cherry']"
      ]
     },
     "execution_count": 181,
     "metadata": {},
     "output_type": "execute_result"
    }
   ],
   "source": [
    "l1 = list((\"apple\", \"banana\", \"cherry\")) # list constructor to create list\n",
    "l1"
   ]
  },
  {
   "cell_type": "code",
   "execution_count": 151,
   "id": "969b8527",
   "metadata": {},
   "outputs": [
    {
     "data": {
      "text/plain": [
       "[1, 'Hi', '2019Jun10', 5.79, True, 29, 1]"
      ]
     },
     "execution_count": 151,
     "metadata": {},
     "output_type": "execute_result"
    },
    {
     "data": {
      "text/plain": [
       "list"
      ]
     },
     "execution_count": 151,
     "metadata": {},
     "output_type": "execute_result"
    }
   ],
   "source": [
    "lst=[1,\"Hi\",\"2019Jun10\",5.79,True,29,1]\n",
    "lst\n",
    "type(lst)"
   ]
  },
  {
   "cell_type": "code",
   "execution_count": 152,
   "id": "8c052f7d",
   "metadata": {},
   "outputs": [
    {
     "data": {
      "text/plain": [
       "7"
      ]
     },
     "execution_count": 152,
     "metadata": {},
     "output_type": "execute_result"
    },
    {
     "data": {
      "text/plain": [
       "'2019Jun10'"
      ]
     },
     "execution_count": 152,
     "metadata": {},
     "output_type": "execute_result"
    },
    {
     "data": {
      "text/plain": [
       "29"
      ]
     },
     "execution_count": 152,
     "metadata": {},
     "output_type": "execute_result"
    },
    {
     "data": {
      "text/plain": [
       "['Hi', '2019Jun10', 5.79]"
      ]
     },
     "execution_count": 152,
     "metadata": {},
     "output_type": "execute_result"
    },
    {
     "data": {
      "text/plain": [
       "[True, 29, 1]"
      ]
     },
     "execution_count": 152,
     "metadata": {},
     "output_type": "execute_result"
    },
    {
     "data": {
      "text/plain": [
       "[1, 'Hi']"
      ]
     },
     "execution_count": 152,
     "metadata": {},
     "output_type": "execute_result"
    }
   ],
   "source": [
    "len(lst) #length of list\n",
    "lst[2] #indexing elements in list; get element at index 2\n",
    "lst[-2] #negative indexing; get second element from end\n",
    "lst[1:4] #slicing a list returns a list\n",
    "lst[4:] #get all elements of list from index 4\n",
    "lst[:2] #get all elements of list before index 2"
   ]
  },
  {
   "cell_type": "code",
   "execution_count": 135,
   "id": "48b55391",
   "metadata": {},
   "outputs": [
    {
     "data": {
      "text/plain": [
       "['berry', 'banana', 'cherry', 'orange', 'kiwi', 'mango']"
      ]
     },
     "execution_count": 135,
     "metadata": {},
     "output_type": "execute_result"
    },
    {
     "name": "stdout",
     "output_type": "stream",
     "text": [
      "['berry', 'blackcurrant', 'watermelon', 'orange', 'kiwi', 'mango']\n"
     ]
    }
   ],
   "source": [
    "# change elements of list\n",
    "fruits = [\"apple\", \"banana\", \"cherry\", \"orange\", \"kiwi\", \"mango\"]\n",
    "fruits[0] = \"berry\"\n",
    "fruits\n",
    "fruits[1:3] = [\"blackcurrant\", \"watermelon\"]\n",
    "print(fruits)"
   ]
  },
  {
   "cell_type": "code",
   "execution_count": 136,
   "id": "c343d94f",
   "metadata": {},
   "outputs": [
    {
     "data": {
      "text/plain": [
       "['berry', 'blackcurrant', 'watermelon', 'grape', 'orange', 'kiwi', 'mango']"
      ]
     },
     "execution_count": 136,
     "metadata": {},
     "output_type": "execute_result"
    }
   ],
   "source": [
    "#insert item in to list\n",
    "fruits.insert(3,\"grape\")\n",
    "fruits"
   ]
  },
  {
   "cell_type": "code",
   "execution_count": 139,
   "id": "063ff4d9",
   "metadata": {},
   "outputs": [
    {
     "data": {
      "text/plain": [
       "['berry', 'blackcurrant', 'watermelon', 'grape', 'orange', 'kiwi', 'mango']"
      ]
     },
     "execution_count": 139,
     "metadata": {},
     "output_type": "execute_result"
    },
    {
     "data": {
      "text/plain": [
       "['berry',\n",
       " 'blackcurrant',\n",
       " 'watermelon',\n",
       " 'grape',\n",
       " 'orange',\n",
       " 'kiwi',\n",
       " 'mango',\n",
       " 'cherry',\n",
       " 'blueberry',\n",
       " 'cranberry']"
      ]
     },
     "execution_count": 139,
     "metadata": {},
     "output_type": "execute_result"
    },
    {
     "data": {
      "text/plain": [
       "['berry',\n",
       " 'blackcurrant',\n",
       " 'watermelon',\n",
       " 'grape',\n",
       " 'orange',\n",
       " 'kiwi',\n",
       " 'mango',\n",
       " 'cherry',\n",
       " 'blueberry',\n",
       " 'cranberry',\n",
       " ['cherry', 'blueberry', 'cranberry']]"
      ]
     },
     "execution_count": 139,
     "metadata": {},
     "output_type": "execute_result"
    }
   ],
   "source": [
    "#append Vs extend to add elements to list\n",
    "fruits\n",
    "l = ['cherry', 'blueberry', 'cranberry']\n",
    "fruits.extend(l) #appends each element of the iterable (tuple, string, or list) to the end of the list and increases the length of the list by the number of elements \n",
    "fruits\n",
    "fruits.append(l) #It adds an element at the end of the list. The argument passed in the append function is added as a single element at end of the list and the length of the list is increased by 1.\n",
    "fruits"
   ]
  },
  {
   "cell_type": "code",
   "execution_count": 201,
   "id": "1bc30840",
   "metadata": {},
   "outputs": [
    {
     "data": {
      "text/plain": [
       "['carrot', 'okra', 'chillies', 'potato']"
      ]
     },
     "execution_count": 201,
     "metadata": {},
     "output_type": "execute_result"
    },
    {
     "data": {
      "text/plain": [
       "'okra'"
      ]
     },
     "execution_count": 201,
     "metadata": {},
     "output_type": "execute_result"
    },
    {
     "data": {
      "text/plain": [
       "['carrot', 'chillies', 'potato']"
      ]
     },
     "execution_count": 201,
     "metadata": {},
     "output_type": "execute_result"
    },
    {
     "data": {
      "text/plain": [
       "['potato']"
      ]
     },
     "execution_count": 201,
     "metadata": {},
     "output_type": "execute_result"
    }
   ],
   "source": [
    "#remove element from list\n",
    "veggies = [\"carrot\", \"onion\", \"okra\",\"chillies\",\"potato\"]\n",
    "veggies.remove(\"onion\") #by value\n",
    "veggies\n",
    "veggies.pop(1) #by index\n",
    "veggies\n",
    "del veggies[:2] #by index or by slice range\n",
    "veggies"
   ]
  },
  {
   "cell_type": "code",
   "execution_count": 143,
   "id": "a42cdc19",
   "metadata": {},
   "outputs": [
    {
     "data": {
      "text/plain": [
       "[]"
      ]
     },
     "execution_count": 143,
     "metadata": {},
     "output_type": "execute_result"
    }
   ],
   "source": [
    "#clearing list\n",
    "veggies.clear()\n",
    "veggies"
   ]
  },
  {
   "cell_type": "code",
   "execution_count": 183,
   "id": "f83941d5",
   "metadata": {},
   "outputs": [
    {
     "data": {
      "text/plain": [
       "['banana', 'kiwi', 'mango', 'orange', 'pineapple']"
      ]
     },
     "execution_count": 183,
     "metadata": {},
     "output_type": "execute_result"
    },
    {
     "data": {
      "text/plain": [
       "['pineapple', 'orange', 'mango', 'kiwi', 'banana']"
      ]
     },
     "execution_count": 183,
     "metadata": {},
     "output_type": "execute_result"
    },
    {
     "data": {
      "text/plain": [
       "['banana', 'cherry', 'Kiwi', 'Mango', 'Orange']"
      ]
     },
     "execution_count": 183,
     "metadata": {},
     "output_type": "execute_result"
    },
    {
     "data": {
      "text/plain": [
       "['bat', 'zebra', 'tiger', 'lion', 'dog', 'ant', 'cat']"
      ]
     },
     "execution_count": 183,
     "metadata": {},
     "output_type": "execute_result"
    },
    {
     "data": {
      "text/plain": [
       "False"
      ]
     },
     "execution_count": 183,
     "metadata": {},
     "output_type": "execute_result"
    }
   ],
   "source": [
    "#sorting list\n",
    "#By default the sort() method is case sensitive, resulting in all capital letters being sorted before lower case letters\n",
    "fruits = [\"orange\", \"mango\", \"kiwi\", \"pineapple\", \"banana\"]\n",
    "fruits.sort()\n",
    "fruits\n",
    "fruits.sort(reverse=True)\n",
    "fruits\n",
    "#if you want a case-insensitive sort function, use str.lower as a key function\n",
    "fru=[\"banana\", \"Orange\", \"Kiwi\", \"cherry\",\"Mango\"]\n",
    "fru.sort(key = str.lower)\n",
    "fru\n",
    "#reverse() method reverses the current sorting order of the elements.\n",
    "species=[\"cat\",\"ant\",\"dog\",\"lion\",\"tiger\",\"zebra\",\"bat\"]\n",
    "species.reverse()\n",
    "species\n",
    "#check for an element in list\n",
    "\"panther\" in species"
   ]
  },
  {
   "cell_type": "code",
   "execution_count": 149,
   "id": "69283448",
   "metadata": {},
   "outputs": [
    {
     "data": {
      "text/plain": [
       "['apple', 'banana', 'cherry']"
      ]
     },
     "execution_count": 149,
     "metadata": {},
     "output_type": "execute_result"
    },
    {
     "data": {
      "text/plain": [
       "['watermelon', 'apple', 'banana', 'cherry']"
      ]
     },
     "execution_count": 149,
     "metadata": {},
     "output_type": "execute_result"
    },
    {
     "data": {
      "text/plain": [
       "['apple', 'banana', 'cherry']"
      ]
     },
     "execution_count": 149,
     "metadata": {},
     "output_type": "execute_result"
    }
   ],
   "source": [
    "#copying a list\n",
    "#You cannot copy a list simply by typing list2 = list1, because: list2 will only be a reference to list1, and changes made in list1 will automatically also be made in list2.\n",
    "a = [\"apple\", \"banana\", \"cherry\"]\n",
    "b = a.copy()\n",
    "b\n",
    "a.insert(0,\"watermelon\")\n",
    "a\n",
    "b"
   ]
  },
  {
   "cell_type": "code",
   "execution_count": 150,
   "id": "4a02e5fc",
   "metadata": {},
   "outputs": [
    {
     "name": "stdout",
     "output_type": "stream",
     "text": [
      "['a', 'b', 'c', 1, 2, 3]\n"
     ]
    }
   ],
   "source": [
    "#joining two lists\n",
    "a = [\"a\", \"b\", \"c\"]\n",
    "b = [1, 2, 3]\n",
    "\n",
    "c = a + b\n",
    "print(c)"
   ]
  },
  {
   "cell_type": "code",
   "execution_count": 153,
   "id": "d14bfa28",
   "metadata": {},
   "outputs": [
    {
     "data": {
      "text/plain": [
       "['Hi!', 'Hi!', 'Hi!', 'Hi!']"
      ]
     },
     "execution_count": 153,
     "metadata": {},
     "output_type": "execute_result"
    }
   ],
   "source": [
    "['Hi!'] * 4 #repetition"
   ]
  },
  {
   "cell_type": "code",
   "execution_count": 193,
   "id": "02f32664",
   "metadata": {},
   "outputs": [
    {
     "name": "stdout",
     "output_type": "stream",
     "text": [
      "['apple', 'banana', 'cherry', 'kiwi', 'orange']\n"
     ]
    },
    {
     "data": {
      "text/plain": [
       "['apple', 'banana', 'cherry', 'kiwi', 'orange', ('kiwi', 'orange')]"
      ]
     },
     "execution_count": 193,
     "metadata": {},
     "output_type": "execute_result"
    }
   ],
   "source": [
    "#adding tuple to list\n",
    "l = [\"apple\", \"banana\", \"cherry\"]\n",
    "t = (\"kiwi\", \"orange\")\n",
    "l.extend(t)\n",
    "print(l)\n",
    "l.append(t)\n",
    "l"
   ]
  },
  {
   "cell_type": "code",
   "execution_count": 277,
   "id": "66c20e62",
   "metadata": {},
   "outputs": [
    {
     "name": "stdout",
     "output_type": "stream",
     "text": [
      "['apple', 'banana', 'mango']\n"
     ]
    }
   ],
   "source": [
    "fruits = [\"apple\", \"banana\", \"cherry\", \"kiwi\", \"mango\"]\n",
    "newlist = []\n",
    "\n",
    "for x in fruits:\n",
    "  if \"a\" in x:\n",
    "    newlist.append(x)\n",
    "\n",
    "print(newlist)"
   ]
  },
  {
   "cell_type": "markdown",
   "id": "2ddc684d",
   "metadata": {},
   "source": [
    "#### List comprehension : \n",
    "a shorter syntax when you want to create a new list based on the values of an existing list."
   ]
  },
  {
   "cell_type": "code",
   "execution_count": 276,
   "id": "b4a8888c",
   "metadata": {},
   "outputs": [
    {
     "data": {
      "text/plain": [
       "['apple', 'banana', 'mango']"
      ]
     },
     "execution_count": 276,
     "metadata": {},
     "output_type": "execute_result"
    }
   ],
   "source": [
    "fruits = [\"apple\", \"banana\", \"cherry\", \"kiwi\", \"mango\"]\n",
    "#create a new list, containing only the fruits with the letter \"a\" in the name.\n",
    "newlist = [x for x in fruits if \"a\" in x]\n",
    "newlist"
   ]
  },
  {
   "cell_type": "markdown",
   "id": "105a850e",
   "metadata": {},
   "source": [
    "#### TUPLES:\n",
    "A tuple is a collection which is ordered and unchangeable.\n",
    "\n",
    "Tuples are written with round brackets.\n",
    "\n",
    "* Tuples are ordered, indexed collections of data.  \n",
    "* Tuples can store duplicate values.\n",
    "* Once data is assigned to a tuple, the values cannot be changed.\n",
    "* Tuples allow you to store several data type items in one variable. "
   ]
  },
  {
   "cell_type": "code",
   "execution_count": 155,
   "id": "9f03e9fd",
   "metadata": {},
   "outputs": [
    {
     "data": {
      "text/plain": [
       "tuple"
      ]
     },
     "execution_count": 155,
     "metadata": {},
     "output_type": "execute_result"
    }
   ],
   "source": [
    "#creating empty tuple\n",
    "e_tpl=()\n",
    "type(e_tpl)"
   ]
  },
  {
   "cell_type": "code",
   "execution_count": 180,
   "id": "ea2c3e9a",
   "metadata": {},
   "outputs": [
    {
     "data": {
      "text/plain": [
       "('apple', 'banana', 'cherry')"
      ]
     },
     "execution_count": 180,
     "metadata": {},
     "output_type": "execute_result"
    }
   ],
   "source": [
    "t1 = tuple((\"apple\", \"banana\", \"cherry\")) # tuple constructor to create tuple\n",
    "t1"
   ]
  },
  {
   "cell_type": "code",
   "execution_count": 157,
   "id": "e3ad0123",
   "metadata": {},
   "outputs": [
    {
     "data": {
      "text/plain": [
       "('physics', 'chemistry', 'maths', 2000, 2.9)"
      ]
     },
     "execution_count": 157,
     "metadata": {},
     "output_type": "execute_result"
    },
    {
     "data": {
      "text/plain": [
       "tuple"
      ]
     },
     "execution_count": 157,
     "metadata": {},
     "output_type": "execute_result"
    }
   ],
   "source": [
    "tup = ('physics', 'chemistry', 'maths', 2000, 2.9)\n",
    "tup\n",
    "type(tup)"
   ]
  },
  {
   "cell_type": "code",
   "execution_count": 159,
   "id": "59d940d1",
   "metadata": {},
   "outputs": [
    {
     "data": {
      "text/plain": [
       "5"
      ]
     },
     "execution_count": 159,
     "metadata": {},
     "output_type": "execute_result"
    },
    {
     "data": {
      "text/plain": [
       "'chemistry'"
      ]
     },
     "execution_count": 159,
     "metadata": {},
     "output_type": "execute_result"
    },
    {
     "data": {
      "text/plain": [
       "('chemistry', 'maths', 2000)"
      ]
     },
     "execution_count": 159,
     "metadata": {},
     "output_type": "execute_result"
    },
    {
     "data": {
      "text/plain": [
       "2.9"
      ]
     },
     "execution_count": 159,
     "metadata": {},
     "output_type": "execute_result"
    }
   ],
   "source": [
    "len(tup) #length of tuple\n",
    "tup[1] #indexing tuple\n",
    "tup[1:4] #slicing tuple\n",
    "tup[-1] #negative indexing to get last element of tuple"
   ]
  },
  {
   "cell_type": "code",
   "execution_count": 162,
   "id": "6a409cbe",
   "metadata": {},
   "outputs": [
    {
     "data": {
      "text/plain": [
       "(1, 2, 3, 4, 5, 6)"
      ]
     },
     "execution_count": 162,
     "metadata": {},
     "output_type": "execute_result"
    },
    {
     "data": {
      "text/plain": [
       "('x', 'x', 'x', 'x', 'x', 'x')"
      ]
     },
     "execution_count": 162,
     "metadata": {},
     "output_type": "execute_result"
    }
   ],
   "source": [
    "#concatenation of two tuples\n",
    "(1,2,3) + (4,5,6)\n",
    "#repetition\n",
    "('x',)*6"
   ]
  },
  {
   "cell_type": "code",
   "execution_count": 168,
   "id": "e81618fe",
   "metadata": {},
   "outputs": [
    {
     "ename": "TypeError",
     "evalue": "'tuple' object does not support item assignment",
     "output_type": "error",
     "traceback": [
      "\u001b[1;31m---------------------------------------------------------------------------\u001b[0m",
      "\u001b[1;31mTypeError\u001b[0m                                 Traceback (most recent call last)",
      "\u001b[1;32mC:\\Users\\KRISHN~1\\AppData\\Local\\Temp/ipykernel_13980/3183303901.py\u001b[0m in \u001b[0;36m<module>\u001b[1;34m\u001b[0m\n\u001b[0;32m      1\u001b[0m \u001b[1;31m#adding element to a tuple\u001b[0m\u001b[1;33m\u001b[0m\u001b[1;33m\u001b[0m\u001b[0m\n\u001b[0;32m      2\u001b[0m \u001b[0mt\u001b[0m \u001b[1;33m=\u001b[0m \u001b[1;33m(\u001b[0m\u001b[1;34m\"mercury\"\u001b[0m\u001b[1;33m,\u001b[0m\u001b[1;34m\"venus\"\u001b[0m\u001b[1;33m,\u001b[0m\u001b[1;34m\"earth\"\u001b[0m\u001b[1;33m,\u001b[0m\u001b[1;34m\"mars\"\u001b[0m\u001b[1;33m)\u001b[0m\u001b[1;33m\u001b[0m\u001b[1;33m\u001b[0m\u001b[0m\n\u001b[1;32m----> 3\u001b[1;33m \u001b[0mt\u001b[0m\u001b[1;33m[\u001b[0m\u001b[1;36m1\u001b[0m\u001b[1;33m]\u001b[0m\u001b[1;33m=\u001b[0m\u001b[1;34m\"moon\"\u001b[0m\u001b[1;33m\u001b[0m\u001b[1;33m\u001b[0m\u001b[0m\n\u001b[0m\u001b[0;32m      4\u001b[0m \u001b[1;31m#Tuples are unchangeable, meaning that you cannot change, add, or remove items once the tuple is created.\u001b[0m\u001b[1;33m\u001b[0m\u001b[1;33m\u001b[0m\u001b[0m\n",
      "\u001b[1;31mTypeError\u001b[0m: 'tuple' object does not support item assignment"
     ]
    }
   ],
   "source": [
    "#adding element to a tuple\n",
    "t = (\"mercury\",\"venus\",\"earth\",\"mars\")\n",
    "t[1]=\"moon\"\n",
    "#Tuples are unchangeable, meaning that you cannot change, add, or remove items once the tuple is created."
   ]
  },
  {
   "cell_type": "code",
   "execution_count": 169,
   "id": "5bfa1129",
   "metadata": {},
   "outputs": [
    {
     "data": {
      "text/plain": [
       "('mercury', 'venus', 'earth', 'mars')"
      ]
     },
     "execution_count": 169,
     "metadata": {},
     "output_type": "execute_result"
    },
    {
     "data": {
      "text/plain": [
       "('mercury', 'venus', 'earth', 'mars', 'jupiter')"
      ]
     },
     "execution_count": 169,
     "metadata": {},
     "output_type": "execute_result"
    }
   ],
   "source": [
    "t\n",
    "t_lst = list(t)\n",
    "t_lst.append(\"jupiter\")\n",
    "t = tuple(t_lst)\n",
    "t"
   ]
  },
  {
   "cell_type": "code",
   "execution_count": 170,
   "id": "2221ddde",
   "metadata": {},
   "outputs": [
    {
     "ename": "NameError",
     "evalue": "name 't' is not defined",
     "output_type": "error",
     "traceback": [
      "\u001b[1;31m---------------------------------------------------------------------------\u001b[0m",
      "\u001b[1;31mNameError\u001b[0m                                 Traceback (most recent call last)",
      "\u001b[1;32mC:\\Users\\KRISHN~1\\AppData\\Local\\Temp/ipykernel_13980/1841977016.py\u001b[0m in \u001b[0;36m<module>\u001b[1;34m\u001b[0m\n\u001b[0;32m      1\u001b[0m \u001b[1;31m#delete tuple\u001b[0m\u001b[1;33m\u001b[0m\u001b[1;33m\u001b[0m\u001b[0m\n\u001b[0;32m      2\u001b[0m \u001b[1;32mdel\u001b[0m \u001b[0mt\u001b[0m\u001b[1;33m\u001b[0m\u001b[1;33m\u001b[0m\u001b[0m\n\u001b[1;32m----> 3\u001b[1;33m \u001b[0mprint\u001b[0m\u001b[1;33m(\u001b[0m\u001b[0mt\u001b[0m\u001b[1;33m)\u001b[0m\u001b[1;33m\u001b[0m\u001b[1;33m\u001b[0m\u001b[0m\n\u001b[0m",
      "\u001b[1;31mNameError\u001b[0m: name 't' is not defined"
     ]
    }
   ],
   "source": [
    "#delete tuple\n",
    "del t\n",
    "print(t)"
   ]
  },
  {
   "cell_type": "code",
   "execution_count": 172,
   "id": "67377e29",
   "metadata": {},
   "outputs": [
    {
     "data": {
      "text/plain": [
       "('banana', 'cherry')"
      ]
     },
     "execution_count": 172,
     "metadata": {},
     "output_type": "execute_result"
    }
   ],
   "source": [
    "#removing element in tuple\n",
    "tpl = (\"apple\", \"banana\", \"cherry\")\n",
    "ls = list(tpl)\n",
    "ls.remove(\"apple\")\n",
    "tpl = tuple(ls)\n",
    "tpl"
   ]
  },
  {
   "cell_type": "code",
   "execution_count": 174,
   "id": "02e983cb",
   "metadata": {},
   "outputs": [
    {
     "data": {
      "text/plain": [
       "3"
      ]
     },
     "execution_count": 174,
     "metadata": {},
     "output_type": "execute_result"
    }
   ],
   "source": [
    "tl = (1, 3, 5, 7, 8, 7, 5, 4, 6, 8, 5)\n",
    "tl.count(5) #method returns the number of times a specified value appears in the tuple."
   ]
  },
  {
   "cell_type": "code",
   "execution_count": 175,
   "id": "ac941bd9",
   "metadata": {},
   "outputs": [
    {
     "data": {
      "text/plain": [
       "3"
      ]
     },
     "execution_count": 175,
     "metadata": {},
     "output_type": "execute_result"
    },
    {
     "ename": "ValueError",
     "evalue": "tuple.index(x): x not in tuple",
     "output_type": "error",
     "traceback": [
      "\u001b[1;31m---------------------------------------------------------------------------\u001b[0m",
      "\u001b[1;31mValueError\u001b[0m                                Traceback (most recent call last)",
      "\u001b[1;32mC:\\Users\\KRISHN~1\\AppData\\Local\\Temp/ipykernel_13980/1664787657.py\u001b[0m in \u001b[0;36m<module>\u001b[1;34m\u001b[0m\n\u001b[0;32m      1\u001b[0m \u001b[0mtl\u001b[0m\u001b[1;33m.\u001b[0m\u001b[0mindex\u001b[0m\u001b[1;33m(\u001b[0m\u001b[1;36m7\u001b[0m\u001b[1;33m)\u001b[0m \u001b[1;31m#method finds the first occurrence of the specified value; raises an exception if the value is not found.\u001b[0m\u001b[1;33m\u001b[0m\u001b[1;33m\u001b[0m\u001b[0m\n\u001b[1;32m----> 2\u001b[1;33m \u001b[0mtl\u001b[0m\u001b[1;33m.\u001b[0m\u001b[0mindex\u001b[0m\u001b[1;33m(\u001b[0m\u001b[1;36m2\u001b[0m\u001b[1;33m)\u001b[0m\u001b[1;33m\u001b[0m\u001b[1;33m\u001b[0m\u001b[0m\n\u001b[0m",
      "\u001b[1;31mValueError\u001b[0m: tuple.index(x): x not in tuple"
     ]
    }
   ],
   "source": [
    "tl.index(7) #method finds the first occurrence of the specified value; raises an exception if the value is not found.\n",
    "tl.index(2)"
   ]
  },
  {
   "cell_type": "code",
   "execution_count": 182,
   "id": "3c2a2e7e",
   "metadata": {},
   "outputs": [
    {
     "data": {
      "text/plain": [
       "True"
      ]
     },
     "execution_count": 182,
     "metadata": {},
     "output_type": "execute_result"
    }
   ],
   "source": [
    "1 in tl #check for an element in tuple"
   ]
  },
  {
   "cell_type": "markdown",
   "id": "d5cf9063",
   "metadata": {},
   "source": [
    "#### SET:\n",
    "A set is a collection which is unordered, unchangeable*, and unindexed.\n",
    "Sets are written with curly brackets.\n",
    "* you can remove items and add new items\n",
    "* unordered, hence can not be indexed\n",
    "* unchangeable, means we can not change an item\n",
    "* duplicated not allowed, and ignored if given\n",
    "* can contain different data types"
   ]
  },
  {
   "cell_type": "code",
   "execution_count": 178,
   "id": "3efadb2a",
   "metadata": {},
   "outputs": [
    {
     "data": {
      "text/plain": [
       "{23, 41.98, 'apple', 'banana', 'cherry'}"
      ]
     },
     "execution_count": 178,
     "metadata": {},
     "output_type": "execute_result"
    },
    {
     "data": {
      "text/plain": [
       "set"
      ]
     },
     "execution_count": 178,
     "metadata": {},
     "output_type": "execute_result"
    }
   ],
   "source": [
    "st = {\"apple\", \"banana\", \"cherry\", \"apple\", 23, 41.980}\n",
    "st\n",
    "type(st)"
   ]
  },
  {
   "cell_type": "code",
   "execution_count": 179,
   "id": "6c01090b",
   "metadata": {},
   "outputs": [
    {
     "data": {
      "text/plain": [
       "{'apple', 'banana', 'cherry'}"
      ]
     },
     "execution_count": 179,
     "metadata": {},
     "output_type": "execute_result"
    }
   ],
   "source": [
    "s1 = set((\"apple\", \"banana\", \"cherry\")) #set constructor to create set\n",
    "s1"
   ]
  },
  {
   "cell_type": "code",
   "execution_count": 184,
   "id": "a532de02",
   "metadata": {},
   "outputs": [
    {
     "data": {
      "text/plain": [
       "5"
      ]
     },
     "execution_count": 184,
     "metadata": {},
     "output_type": "execute_result"
    },
    {
     "data": {
      "text/plain": [
       "False"
      ]
     },
     "execution_count": 184,
     "metadata": {},
     "output_type": "execute_result"
    }
   ],
   "source": [
    "len(st) #length of set\n",
    "\"carrot\" in st #check for an element in set"
   ]
  },
  {
   "cell_type": "code",
   "execution_count": 187,
   "id": "4c71d196",
   "metadata": {},
   "outputs": [
    {
     "ename": "TypeError",
     "evalue": "'set' object is not subscriptable",
     "output_type": "error",
     "traceback": [
      "\u001b[1;31m---------------------------------------------------------------------------\u001b[0m",
      "\u001b[1;31mTypeError\u001b[0m                                 Traceback (most recent call last)",
      "\u001b[1;32mC:\\Users\\KRISHN~1\\AppData\\Local\\Temp/ipykernel_13980/4049619405.py\u001b[0m in \u001b[0;36m<module>\u001b[1;34m\u001b[0m\n\u001b[1;32m----> 1\u001b[1;33m \u001b[0mst\u001b[0m\u001b[1;33m[\u001b[0m\u001b[1;36m1\u001b[0m\u001b[1;33m]\u001b[0m \u001b[1;31m#indexing in set\u001b[0m\u001b[1;33m\u001b[0m\u001b[1;33m\u001b[0m\u001b[0m\n\u001b[0m",
      "\u001b[1;31mTypeError\u001b[0m: 'set' object is not subscriptable"
     ]
    }
   ],
   "source": [
    "st[1] #indexing in set"
   ]
  },
  {
   "cell_type": "code",
   "execution_count": 188,
   "id": "9e29492f",
   "metadata": {},
   "outputs": [
    {
     "ename": "TypeError",
     "evalue": "'set' object is not subscriptable",
     "output_type": "error",
     "traceback": [
      "\u001b[1;31m---------------------------------------------------------------------------\u001b[0m",
      "\u001b[1;31mTypeError\u001b[0m                                 Traceback (most recent call last)",
      "\u001b[1;32mC:\\Users\\KRISHN~1\\AppData\\Local\\Temp/ipykernel_13980/1669768080.py\u001b[0m in \u001b[0;36m<module>\u001b[1;34m\u001b[0m\n\u001b[1;32m----> 1\u001b[1;33m \u001b[0mst\u001b[0m\u001b[1;33m[\u001b[0m\u001b[1;36m1\u001b[0m\u001b[1;33m:\u001b[0m\u001b[1;36m4\u001b[0m\u001b[1;33m]\u001b[0m \u001b[1;31m#slicing in set\u001b[0m\u001b[1;33m\u001b[0m\u001b[1;33m\u001b[0m\u001b[0m\n\u001b[0m",
      "\u001b[1;31mTypeError\u001b[0m: 'set' object is not subscriptable"
     ]
    }
   ],
   "source": [
    "st[1:4] #slicing in set"
   ]
  },
  {
   "cell_type": "code",
   "execution_count": 189,
   "id": "43a6fc12",
   "metadata": {},
   "outputs": [
    {
     "data": {
      "text/plain": [
       "{'engine', 'fuel', 'steering', 'wheels'}"
      ]
     },
     "execution_count": 189,
     "metadata": {},
     "output_type": "execute_result"
    }
   ],
   "source": [
    "#adding item to set\n",
    "car = {\"wheels\", \"steering\", \"engine\"}\n",
    "car.add(\"fuel\")\n",
    "car"
   ]
  },
  {
   "cell_type": "code",
   "execution_count": 190,
   "id": "7b98681c",
   "metadata": {},
   "outputs": [
    {
     "data": {
      "text/plain": [
       "{'ears', 'engine', 'eyes', 'fuel', 'legs', 'nose', 'steering', 'wheels'}"
      ]
     },
     "execution_count": 190,
     "metadata": {},
     "output_type": "execute_result"
    }
   ],
   "source": [
    "#adding sets together\n",
    "body={\"eyes\",\"ears\",\"legs\",\"nose\"}\n",
    "car.update(body) #To add items from another set into the current set\n",
    "car"
   ]
  },
  {
   "cell_type": "code",
   "execution_count": 191,
   "id": "3e6c10b0",
   "metadata": {},
   "outputs": [
    {
     "data": {
      "text/plain": [
       "{'apple',\n",
       " 'banana',\n",
       " 'ears',\n",
       " 'engine',\n",
       " 'eyes',\n",
       " 'fuel',\n",
       " 'legs',\n",
       " 'nose',\n",
       " 'orange',\n",
       " 'steering',\n",
       " 'wheels'}"
      ]
     },
     "execution_count": 191,
     "metadata": {},
     "output_type": "execute_result"
    }
   ],
   "source": [
    "#adding list to set\n",
    "fruits=[\"apple\",\"banana\",\"orange\"]\n",
    "car.update(fruits)\n",
    "car"
   ]
  },
  {
   "cell_type": "code",
   "execution_count": 202,
   "id": "e6541d13",
   "metadata": {},
   "outputs": [
    {
     "data": {
      "text/plain": [
       "{'branch', 'fruit', 'pollen', 'root', 'seed'}"
      ]
     },
     "execution_count": 202,
     "metadata": {},
     "output_type": "execute_result"
    },
    {
     "ename": "KeyError",
     "evalue": "'climate'",
     "output_type": "error",
     "traceback": [
      "\u001b[1;31m---------------------------------------------------------------------------\u001b[0m",
      "\u001b[1;31mKeyError\u001b[0m                                  Traceback (most recent call last)",
      "\u001b[1;32mC:\\Users\\KRISHN~1\\AppData\\Local\\Temp/ipykernel_13980/1018595725.py\u001b[0m in \u001b[0;36m<module>\u001b[1;34m\u001b[0m\n\u001b[0;32m      4\u001b[0m \u001b[0mtree\u001b[0m\u001b[1;33m.\u001b[0m\u001b[0mremove\u001b[0m\u001b[1;33m(\u001b[0m\u001b[1;34m\"leaf\"\u001b[0m\u001b[1;33m)\u001b[0m \u001b[1;31m#If the item to remove does not exist, remove() will raise an error.\u001b[0m\u001b[1;33m\u001b[0m\u001b[1;33m\u001b[0m\u001b[0m\n\u001b[0;32m      5\u001b[0m \u001b[0mtree\u001b[0m\u001b[1;33m\u001b[0m\u001b[1;33m\u001b[0m\u001b[0m\n\u001b[1;32m----> 6\u001b[1;33m \u001b[0mtree\u001b[0m\u001b[1;33m.\u001b[0m\u001b[0mremove\u001b[0m\u001b[1;33m(\u001b[0m\u001b[1;34m\"climate\"\u001b[0m\u001b[1;33m)\u001b[0m\u001b[1;33m\u001b[0m\u001b[1;33m\u001b[0m\u001b[0m\n\u001b[0m",
      "\u001b[1;31mKeyError\u001b[0m: 'climate'"
     ]
    }
   ],
   "source": [
    "#remove element from set\n",
    "#remove Vs discard\n",
    "tree = {\"leaf\", \"branch\", \"root\", \"fruit\", \"seed\", \"pollen\"}\n",
    "tree.remove(\"leaf\") #If the item to remove does not exist, remove() will raise an error.\n",
    "tree\n",
    "tree.remove(\"climate\")"
   ]
  },
  {
   "cell_type": "code",
   "execution_count": 203,
   "id": "8d41eaa8",
   "metadata": {
    "scrolled": true
   },
   "outputs": [
    {
     "data": {
      "text/plain": [
       "{'fruit', 'pollen', 'root', 'seed'}"
      ]
     },
     "execution_count": 203,
     "metadata": {},
     "output_type": "execute_result"
    }
   ],
   "source": [
    "tree.discard(\"branch\") #If the item to remove does not exist, discard() will NOT raise an error.\n",
    "tree\n",
    "tree.discard(\"climate\")"
   ]
  },
  {
   "cell_type": "code",
   "execution_count": 212,
   "id": "2cce0e88",
   "metadata": {},
   "outputs": [
    {
     "data": {
      "text/plain": [
       "{'calculator', 'camera', 'memory slot', 'mic', 'sim holder', 'speaker'}"
      ]
     },
     "execution_count": 212,
     "metadata": {},
     "output_type": "execute_result"
    },
    {
     "data": {
      "text/plain": [
       "{'calculator', 'camera', 'memory slot', 'mic', 'sim holder', 'speaker'}"
      ]
     },
     "execution_count": 212,
     "metadata": {},
     "output_type": "execute_result"
    }
   ],
   "source": [
    "phone = {\"camera\", \"calculator\", \"mic\",\"speaker\",\"sim holder\",\"memory slot\",\"battery\"}\n",
    "phone.discard(\"battery\") #removes the specified item from the set; it will not raise error if item is not present\n",
    "phone\n",
    "phone.discard(\"wheels\")\n",
    "phone"
   ]
  },
  {
   "cell_type": "code",
   "execution_count": 213,
   "id": "e31df34c",
   "metadata": {},
   "outputs": [
    {
     "data": {
      "text/plain": [
       "{'calculator', 'camera', 'memory slot', 'mic', 'sim holder'}"
      ]
     },
     "execution_count": 213,
     "metadata": {},
     "output_type": "execute_result"
    },
    {
     "ename": "KeyError",
     "evalue": "'wheels'",
     "output_type": "error",
     "traceback": [
      "\u001b[1;31m---------------------------------------------------------------------------\u001b[0m",
      "\u001b[1;31mKeyError\u001b[0m                                  Traceback (most recent call last)",
      "\u001b[1;32mC:\\Users\\KRISHN~1\\AppData\\Local\\Temp/ipykernel_13980/4014476260.py\u001b[0m in \u001b[0;36m<module>\u001b[1;34m\u001b[0m\n\u001b[0;32m      1\u001b[0m \u001b[0mphone\u001b[0m\u001b[1;33m.\u001b[0m\u001b[0mremove\u001b[0m\u001b[1;33m(\u001b[0m\u001b[1;34m\"speaker\"\u001b[0m\u001b[1;33m)\u001b[0m \u001b[1;31m#removes the specified item from the set; it will raise error if item is not present\u001b[0m\u001b[1;33m\u001b[0m\u001b[1;33m\u001b[0m\u001b[0m\n\u001b[0;32m      2\u001b[0m \u001b[0mphone\u001b[0m\u001b[1;33m\u001b[0m\u001b[1;33m\u001b[0m\u001b[0m\n\u001b[1;32m----> 3\u001b[1;33m \u001b[0mphone\u001b[0m\u001b[1;33m.\u001b[0m\u001b[0mremove\u001b[0m\u001b[1;33m(\u001b[0m\u001b[1;34m\"wheels\"\u001b[0m\u001b[1;33m)\u001b[0m\u001b[1;33m\u001b[0m\u001b[1;33m\u001b[0m\u001b[0m\n\u001b[0m\u001b[0;32m      4\u001b[0m \u001b[0mphone\u001b[0m\u001b[1;33m\u001b[0m\u001b[1;33m\u001b[0m\u001b[0m\n",
      "\u001b[1;31mKeyError\u001b[0m: 'wheels'"
     ]
    }
   ],
   "source": [
    "phone.remove(\"speaker\") #removes the specified item from the set; it will raise error if item is not present\n",
    "phone\n",
    "phone.remove(\"wheels\")\n",
    "phone"
   ]
  },
  {
   "cell_type": "code",
   "execution_count": 204,
   "id": "558d106d",
   "metadata": {},
   "outputs": [
    {
     "name": "stdout",
     "output_type": "stream",
     "text": [
      "set()\n"
     ]
    },
    {
     "ename": "NameError",
     "evalue": "name 'tree' is not defined",
     "output_type": "error",
     "traceback": [
      "\u001b[1;31m---------------------------------------------------------------------------\u001b[0m",
      "\u001b[1;31mNameError\u001b[0m                                 Traceback (most recent call last)",
      "\u001b[1;32mC:\\Users\\KRISHN~1\\AppData\\Local\\Temp/ipykernel_13980/766249778.py\u001b[0m in \u001b[0;36m<module>\u001b[1;34m\u001b[0m\n\u001b[0;32m      4\u001b[0m \u001b[1;31m#delete a set completely\u001b[0m\u001b[1;33m\u001b[0m\u001b[1;33m\u001b[0m\u001b[0m\n\u001b[0;32m      5\u001b[0m \u001b[1;32mdel\u001b[0m \u001b[0mtree\u001b[0m\u001b[1;33m\u001b[0m\u001b[1;33m\u001b[0m\u001b[0m\n\u001b[1;32m----> 6\u001b[1;33m \u001b[0mprint\u001b[0m\u001b[1;33m(\u001b[0m\u001b[0mtree\u001b[0m\u001b[1;33m)\u001b[0m\u001b[1;33m\u001b[0m\u001b[1;33m\u001b[0m\u001b[0m\n\u001b[0m",
      "\u001b[1;31mNameError\u001b[0m: name 'tree' is not defined"
     ]
    }
   ],
   "source": [
    "#empty a set\n",
    "tree.clear()\n",
    "print(tree)\n",
    "#delete a set completely\n",
    "del tree\n",
    "print(tree)"
   ]
  },
  {
   "cell_type": "code",
   "execution_count": 207,
   "id": "45eeb815",
   "metadata": {},
   "outputs": [
    {
     "name": "stdout",
     "output_type": "stream",
     "text": [
      "{'a', 1, 2, 'c', 3, 'b'}\n"
     ]
    }
   ],
   "source": [
    "#joining two sets\n",
    "set1 = {\"a\", \"b\" , \"c\"}\n",
    "set2 = {1, 2, 3,1}\n",
    "set3 = set1.union(set2) # returns a new set with all items from both sets\n",
    "print(set3)"
   ]
  },
  {
   "cell_type": "code",
   "execution_count": 208,
   "id": "ea7dfb09",
   "metadata": {},
   "outputs": [
    {
     "name": "stdout",
     "output_type": "stream",
     "text": [
      "{'a', 1, 2, 'c', 3, 'b'}\n"
     ]
    }
   ],
   "source": [
    "set1 = {\"a\", \"b\" , \"c\"}\n",
    "set2 = {1, 2, 3,1}\n",
    "set1.update(set2) # inserts the items in set2 into set1\n",
    "print(set1)\n",
    "#Both union() and update() will exclude any duplicate items."
   ]
  },
  {
   "cell_type": "code",
   "execution_count": 210,
   "id": "e4db82be",
   "metadata": {},
   "outputs": [
    {
     "data": {
      "text/plain": [
       "{'banana', 'cherry', 'grape'}"
      ]
     },
     "execution_count": 210,
     "metadata": {},
     "output_type": "execute_result"
    }
   ],
   "source": [
    "#difference between sets\n",
    "fruits = {\"apple\", \"banana\", \"cherry\", \"grape\", \"blackberry\"}\n",
    "company = {\"google\", \"microsoft\", \"apple\",\"blackberry\"}\n",
    "dif = fruits.difference(company) #Return a set that contains the items that only exist in set x, and not in set y\n",
    "dif"
   ]
  },
  {
   "cell_type": "code",
   "execution_count": 214,
   "id": "652e4d79",
   "metadata": {},
   "outputs": [
    {
     "data": {
      "text/plain": [
       "{'apple', 'banana', 'blackberry', 'cherry', 'grape'}"
      ]
     },
     "execution_count": 214,
     "metadata": {},
     "output_type": "execute_result"
    },
    {
     "data": {
      "text/plain": [
       "{'apple', 'blackberry', 'google', 'microsoft'}"
      ]
     },
     "execution_count": 214,
     "metadata": {},
     "output_type": "execute_result"
    },
    {
     "data": {
      "text/plain": [
       "{'apple', 'blackberry'}"
      ]
     },
     "execution_count": 214,
     "metadata": {},
     "output_type": "execute_result"
    }
   ],
   "source": [
    "fruits\n",
    "company\n",
    "z = fruits.intersection(company) #Return a set that contains the items that exist in both set x, and set y\n",
    "z"
   ]
  },
  {
   "cell_type": "code",
   "execution_count": 215,
   "id": "f60f757e",
   "metadata": {},
   "outputs": [
    {
     "name": "stdout",
     "output_type": "stream",
     "text": [
      "{'c'}\n"
     ]
    }
   ],
   "source": [
    "#intersection between 3 sets\n",
    "x = {\"a\", \"b\", \"c\"}\n",
    "y = {\"c\", \"d\", \"e\"}\n",
    "z = {\"f\", \"g\", \"c\"}\n",
    "result = x.intersection(y, z)\n",
    "print(result)"
   ]
  },
  {
   "cell_type": "code",
   "execution_count": 216,
   "id": "5bb55dc2",
   "metadata": {},
   "outputs": [
    {
     "data": {
      "text/plain": [
       "'b'"
      ]
     },
     "execution_count": 216,
     "metadata": {},
     "output_type": "execute_result"
    },
    {
     "data": {
      "text/plain": [
       "{'a', 'c'}"
      ]
     },
     "execution_count": 216,
     "metadata": {},
     "output_type": "execute_result"
    }
   ],
   "source": [
    "#remove element from set\n",
    "x.pop() #removes a random item from the set.\n",
    "x\n",
    "x.remove('c') #removes the specified element from the set.\n",
    "x"
   ]
  },
  {
   "cell_type": "markdown",
   "id": "62291ca8",
   "metadata": {},
   "source": [
    "#### Dictionary:\n",
    "Dictionaries are used to store data values in key:value pairs, and can be referred to by using the key name.\n",
    "A dictionary is a collection which is ordered, changeable and do not allow duplicates.\n",
    "Dictionaries are written with curly brackets, and have keys and values.\n",
    "* More than one entry per key not allowed. \n",
    "* Keys must be immutable.\n",
    "* Keys are unique"
   ]
  },
  {
   "cell_type": "code",
   "execution_count": 255,
   "id": "2cae5c77",
   "metadata": {},
   "outputs": [
    {
     "data": {
      "text/plain": [
       "dict"
      ]
     },
     "execution_count": 255,
     "metadata": {},
     "output_type": "execute_result"
    }
   ],
   "source": [
    "#creating empty dictionary\n",
    "e_dict = {}\n",
    "type(e_dict)"
   ]
  },
  {
   "cell_type": "code",
   "execution_count": 256,
   "id": "b107465d",
   "metadata": {},
   "outputs": [
    {
     "data": {
      "text/plain": [
       "{'Name': 'Mike', 'Age': 7, 'Class': 'First', 'Section': 'B', 'Grade': 'A'}"
      ]
     },
     "execution_count": 256,
     "metadata": {},
     "output_type": "execute_result"
    }
   ],
   "source": [
    "dct = {'Name': 'Mike', 'Age': 7, 'Class': 'First', 'Section': 'B', 'Grade': 'A'}\n",
    "dct"
   ]
  },
  {
   "cell_type": "code",
   "execution_count": 257,
   "id": "c5ac594c",
   "metadata": {},
   "outputs": [
    {
     "data": {
      "text/plain": [
       "5"
      ]
     },
     "execution_count": 257,
     "metadata": {},
     "output_type": "execute_result"
    },
    {
     "data": {
      "text/plain": [
       "dict_keys(['Name', 'Age', 'Class', 'Section', 'Grade'])"
      ]
     },
     "execution_count": 257,
     "metadata": {},
     "output_type": "execute_result"
    },
    {
     "data": {
      "text/plain": [
       "dict_values(['Mike', 7, 'First', 'B', 'A'])"
      ]
     },
     "execution_count": 257,
     "metadata": {},
     "output_type": "execute_result"
    }
   ],
   "source": [
    "len(dct) #length of dictionary\n",
    "#get keys\n",
    "dct.keys()\n",
    "#get values\n",
    "dct.values()"
   ]
  },
  {
   "cell_type": "code",
   "execution_count": 258,
   "id": "1fc1add4",
   "metadata": {},
   "outputs": [
    {
     "data": {
      "text/plain": [
       "7"
      ]
     },
     "execution_count": 258,
     "metadata": {},
     "output_type": "execute_result"
    },
    {
     "data": {
      "text/plain": [
       "7"
      ]
     },
     "execution_count": 258,
     "metadata": {},
     "output_type": "execute_result"
    }
   ],
   "source": [
    "#get value for a key\n",
    "dct[\"Age\"]\n",
    "dct.get('Age')"
   ]
  },
  {
   "cell_type": "code",
   "execution_count": 259,
   "id": "684c0d58",
   "metadata": {},
   "outputs": [
    {
     "name": "stdout",
     "output_type": "stream",
     "text": [
      "Age\n"
     ]
    }
   ],
   "source": [
    "print(list(dct.keys())[list(dct.values()).index(7)]) #it separates the dictionary's values in a list, finds the position of the value you have, and gets the key at that position."
   ]
  },
  {
   "cell_type": "code",
   "execution_count": 260,
   "id": "f104b918",
   "metadata": {},
   "outputs": [
    {
     "data": {
      "text/plain": [
       "{'Name': 'Mike', 'Age': 7, 'Class': 'First', 'Section': 'B', 'Grade': 'A+'}"
      ]
     },
     "execution_count": 260,
     "metadata": {},
     "output_type": "execute_result"
    },
    {
     "data": {
      "text/plain": [
       "{'Name': 'Mike', 'Age': 7, 'Class': 'First', 'Section': 'B', 'Grade': 'A'}"
      ]
     },
     "execution_count": 260,
     "metadata": {},
     "output_type": "execute_result"
    }
   ],
   "source": [
    "#change value for given key\n",
    "dct['Grade'] = 'A+'\n",
    "dct\n",
    "dct.update({\"Grade\":'A'}) #update() method will update the dictionary with the items from the given argument; The argument must be a dictionary, or an iterable object with key:value pairs\n",
    "dct"
   ]
  },
  {
   "cell_type": "code",
   "execution_count": 261,
   "id": "bf43c434",
   "metadata": {},
   "outputs": [
    {
     "data": {
      "text/plain": [
       "{'Name': 'Mike',\n",
       " 'Age': 7,\n",
       " 'Class': 'First',\n",
       " 'Section': 'B',\n",
       " 'Grade': 'A',\n",
       " 'Year': 2022}"
      ]
     },
     "execution_count": 261,
     "metadata": {},
     "output_type": "execute_result"
    },
    {
     "data": {
      "text/plain": [
       "{'Name': 'Mike',\n",
       " 'Age': 7,\n",
       " 'Class': 'First',\n",
       " 'Section': 'B',\n",
       " 'Grade': 'A',\n",
       " 'Year': 2022,\n",
       " 'School': 'DPS'}"
      ]
     },
     "execution_count": 261,
     "metadata": {},
     "output_type": "execute_result"
    }
   ],
   "source": [
    "#adding item to dict\n",
    "dct[\"Year\"] = 2022 #Adding an item to the dictionary is done by using a new index key and assigning a value to it:\n",
    "dct\n",
    "dct.update({\"School\": \"DPS\"})\n",
    "dct"
   ]
  },
  {
   "cell_type": "code",
   "execution_count": 262,
   "id": "c9228c2d",
   "metadata": {},
   "outputs": [
    {
     "data": {
      "text/plain": [
       "'A'"
      ]
     },
     "execution_count": 262,
     "metadata": {},
     "output_type": "execute_result"
    },
    {
     "data": {
      "text/plain": [
       "{'Name': 'Mike',\n",
       " 'Age': 7,\n",
       " 'Class': 'First',\n",
       " 'Section': 'B',\n",
       " 'Year': 2022,\n",
       " 'School': 'DPS'}"
      ]
     },
     "execution_count": 262,
     "metadata": {},
     "output_type": "execute_result"
    },
    {
     "data": {
      "text/plain": [
       "('School', 'DPS')"
      ]
     },
     "execution_count": 262,
     "metadata": {},
     "output_type": "execute_result"
    },
    {
     "data": {
      "text/plain": [
       "{'Name': 'Mike', 'Age': 7, 'Class': 'First', 'Section': 'B', 'Year': 2022}"
      ]
     },
     "execution_count": 262,
     "metadata": {},
     "output_type": "execute_result"
    }
   ],
   "source": [
    "#removing items from dict\n",
    "dct.pop(\"Grade\") #removes the item with the specified key name\n",
    "dct\n",
    "dct.popitem() #removes the last inserted item\n",
    "dct"
   ]
  },
  {
   "cell_type": "code",
   "execution_count": 263,
   "id": "99a5c369",
   "metadata": {},
   "outputs": [
    {
     "ename": "NameError",
     "evalue": "name 'dct' is not defined",
     "output_type": "error",
     "traceback": [
      "\u001b[1;31m---------------------------------------------------------------------------\u001b[0m",
      "\u001b[1;31mNameError\u001b[0m                                 Traceback (most recent call last)",
      "\u001b[1;32mC:\\Users\\KRISHN~1\\AppData\\Local\\Temp/ipykernel_13980/619916979.py\u001b[0m in \u001b[0;36m<module>\u001b[1;34m\u001b[0m\n\u001b[0;32m      1\u001b[0m \u001b[1;31m#delete dictionary completely\u001b[0m\u001b[1;33m\u001b[0m\u001b[1;33m\u001b[0m\u001b[0m\n\u001b[0;32m      2\u001b[0m \u001b[1;32mdel\u001b[0m \u001b[0mdct\u001b[0m\u001b[1;33m\u001b[0m\u001b[1;33m\u001b[0m\u001b[0m\n\u001b[1;32m----> 3\u001b[1;33m \u001b[0mdct\u001b[0m\u001b[1;33m\u001b[0m\u001b[1;33m\u001b[0m\u001b[0m\n\u001b[0m",
      "\u001b[1;31mNameError\u001b[0m: name 'dct' is not defined"
     ]
    }
   ],
   "source": [
    "#delete dictionary completely\n",
    "del dct \n",
    "dct"
   ]
  },
  {
   "cell_type": "code",
   "execution_count": 264,
   "id": "02bf1261",
   "metadata": {},
   "outputs": [
    {
     "data": {
      "text/plain": [
       "{}"
      ]
     },
     "execution_count": 264,
     "metadata": {},
     "output_type": "execute_result"
    }
   ],
   "source": [
    "#empties dictionary\n",
    "car = {  \"brand\": \"Ford\",  \"model\": \"Mustang\",  \"year\": 1964}\n",
    "car.clear()\n",
    "car"
   ]
  },
  {
   "cell_type": "code",
   "execution_count": 265,
   "id": "f514ad4b",
   "metadata": {},
   "outputs": [
    {
     "data": {
      "text/plain": [
       "{'brand': 'Ford', 'model': 'Mustang', 'year': 1964}"
      ]
     },
     "execution_count": 265,
     "metadata": {},
     "output_type": "execute_result"
    }
   ],
   "source": [
    "#creating copy fo dict\n",
    "car = {  \"brand\": \"Ford\",  \"model\": \"Mustang\",  \"year\": 1964}\n",
    "car_c = car.copy()\n",
    "car_c"
   ]
  },
  {
   "cell_type": "code",
   "execution_count": 266,
   "id": "9996354f",
   "metadata": {},
   "outputs": [
    {
     "data": {
      "text/plain": [
       "dict_items([('brand', 'Ford'), ('model', 'Mustang'), ('year', 1964)])"
      ]
     },
     "execution_count": 266,
     "metadata": {},
     "output_type": "execute_result"
    }
   ],
   "source": [
    "car.items() #returns a view object. The view object contains the key-value pairs of the dictionary, as tuples in a list."
   ]
  },
  {
   "cell_type": "markdown",
   "id": "35517a3a",
   "metadata": {},
   "source": [
    "#### LOOPS:\n",
    "* for loop\n",
    "* while loop"
   ]
  },
  {
   "cell_type": "code",
   "execution_count": 272,
   "id": "2af223c7",
   "metadata": {},
   "outputs": [
    {
     "data": {
      "text/plain": [
       "\"Python’s print() function comes with a parameter called 'end'. \\nBy default, the value of this parameter is '\\n', i.e. the new line character. \\nYou can end a print statement with any character/string using this parameter.\""
      ]
     },
     "execution_count": 272,
     "metadata": {},
     "output_type": "execute_result"
    },
    {
     "name": "stdout",
     "output_type": "stream",
     "text": [
      "\n",
      "Enter the numbers seperated by comma : 1,12,43,5,67,34\n",
      "1 43 5 67 "
     ]
    }
   ],
   "source": [
    "#printing if a number is odd\n",
    "\"\"\"Python’s print() function comes with a parameter called 'end'. \n",
    "By default, the value of this parameter is '\\n', i.e. the new line character. \n",
    "You can end a print statement with any character/string using this parameter.\"\"\"\n",
    "\n",
    "list1 = list(map(int,input(\"\\nEnter the numbers seperated by comma : \").strip().split(',')))\n",
    "\n",
    "# iterating each number in list\n",
    "for num in list1:\n",
    "      \n",
    "    # checking condition\n",
    "    if num % 2 != 0:\n",
    "       print(num, end = \" \")\n"
   ]
  },
  {
   "cell_type": "code",
   "execution_count": 278,
   "id": "7e4630ce",
   "metadata": {},
   "outputs": [
    {
     "name": "stdout",
     "output_type": "stream",
     "text": [
      "1\n",
      "2\n",
      "3\n",
      "4\n"
     ]
    }
   ],
   "source": [
    "i = 1\n",
    "while i < 10:\n",
    "    print(i)\n",
    "    if i == 4:\n",
    "        break # with break we can stop the loop even if the while condition is true  \n",
    "    i += 1\n",
    "else:\n",
    "    print(\"i is no longer less than 10\")"
   ]
  },
  {
   "cell_type": "code",
   "execution_count": 285,
   "id": "5b8ba939",
   "metadata": {},
   "outputs": [
    {
     "name": "stdout",
     "output_type": "stream",
     "text": [
      "1\n",
      "2\n",
      "4\n",
      "5\n",
      "6\n"
     ]
    }
   ],
   "source": [
    "i = 0\n",
    "while i < 6:\n",
    "  i += 1\n",
    "  if i == 3:\n",
    "    continue #with continue, we can stop the current iteration, and continue with the next\n",
    "  print(i)"
   ]
  },
  {
   "cell_type": "code",
   "execution_count": 286,
   "id": "02e2e88c",
   "metadata": {},
   "outputs": [
    {
     "name": "stdout",
     "output_type": "stream",
     "text": [
      "0\n",
      "2\n",
      "4\n",
      "6\n",
      "8\n",
      "Finally finished!\n"
     ]
    }
   ],
   "source": [
    "#range function\n",
    "for x in range(0,10,2):\n",
    "  print(x)\n",
    "else:\n",
    "  print(\"Finally finished!\")"
   ]
  },
  {
   "cell_type": "code",
   "execution_count": 287,
   "id": "e7bca164",
   "metadata": {},
   "outputs": [
    {
     "name": "stdout",
     "output_type": "stream",
     "text": [
      "red apple\n",
      "red banana\n",
      "red cherry\n",
      "big apple\n",
      "big banana\n",
      "big cherry\n",
      "tasty apple\n",
      "tasty banana\n",
      "tasty cherry\n"
     ]
    }
   ],
   "source": [
    "#Nested loop\n",
    "adj = [\"red\", \"big\", \"tasty\"]\n",
    "fruits = [\"apple\", \"banana\", \"cherry\"]\n",
    "\n",
    "for x in adj:\n",
    "    for y in fruits:\n",
    "        print(x, y)\n"
   ]
  },
  {
   "cell_type": "code",
   "execution_count": 288,
   "id": "909cb7bd",
   "metadata": {},
   "outputs": [],
   "source": [
    "#pass statement\n",
    "#The pass statement is used as a placeholder for future code.\n",
    "for x in [0, 1, 2]:\n",
    "    pass"
   ]
  },
  {
   "cell_type": "markdown",
   "id": "ee6f344a",
   "metadata": {},
   "source": [
    "#### Lambda function:\n",
    "A lambda function is a small anonymous function.\n",
    "\n",
    "A lambda function can take any number of arguments, but can only have one expression."
   ]
  },
  {
   "cell_type": "code",
   "execution_count": 297,
   "id": "d2c738e0",
   "metadata": {},
   "outputs": [
    {
     "name": "stdout",
     "output_type": "stream",
     "text": [
      "30\n"
     ]
    }
   ],
   "source": [
    "x = lambda a, b : a * b\n",
    "print(x(5, 6))"
   ]
  },
  {
   "cell_type": "markdown",
   "id": "73c6c07c",
   "metadata": {},
   "source": [
    "#### Function:\n",
    "A function is a block of code which only runs when it is called.\n",
    "\n",
    "You can pass data, known as parameters, into a function.\n",
    "\n",
    "A function can return data as a result."
   ]
  },
  {
   "cell_type": "code",
   "execution_count": 296,
   "id": "935742eb",
   "metadata": {},
   "outputs": [
    {
     "name": "stdout",
     "output_type": "stream",
     "text": [
      "Enter year: 2008\n",
      "Given Year is a leap Year\n"
     ]
    }
   ],
   "source": [
    "#defining a function\n",
    "def CheckLeap(Year):  \n",
    "  # Checking if the given year is leap year  \n",
    "  if((Year % 400 == 0) or  \n",
    "     (Year % 100 != 0) and  \n",
    "     (Year % 4 == 0)):   \n",
    "    print(\"Given Year is a leap Year\");  \n",
    "  # Else it is not a leap year  \n",
    "  else:  \n",
    "    print (\"Given Year is not a leap Year\")  \n",
    "#Calling a function\n",
    "#To call a function, use the function name followed by parenthesis\n",
    "CheckLeap(int(input(\"Enter year: \")))   "
   ]
  },
  {
   "cell_type": "markdown",
   "id": "3bdf620b",
   "metadata": {},
   "source": [
    "#### Try-Except-Finally:\n",
    "* try : block of code test if it contains any errors\n",
    "* except : defines a block of code to run if the try block raises an error\n",
    "* finally : this block will always be executed, no matter if the try block raises an error or not"
   ]
  },
  {
   "cell_type": "code",
   "execution_count": 289,
   "id": "0a78f6a7",
   "metadata": {},
   "outputs": [
    {
     "name": "stdout",
     "output_type": "stream",
     "text": [
      "Yeah ! Your answer is : 1\n",
      "This is always executed\n",
      "Sorry ! You are dividing by zero \n",
      "This is always executed\n"
     ]
    }
   ],
   "source": [
    "def divide(x, y):\n",
    "    try:\n",
    "        # Floor Division : Gives only Fractional\n",
    "        # Part as Answer\n",
    "        result = x // y\n",
    "    except ZeroDivisionError:\n",
    "        print(\"Sorry ! You are dividing by zero \")\n",
    "    else:\n",
    "        print(\"Yeah ! Your answer is :\", result)\n",
    "    finally: \n",
    "        # this block is always executed  \n",
    "        # regardless of exception generation. \n",
    "        print('This is always executed')  \n",
    " \n",
    "# Look at parameters and note the working of Program\n",
    "divide(3, 2)\n",
    "divide(3, 0)"
   ]
  },
  {
   "cell_type": "markdown",
   "id": "ea2399ee",
   "metadata": {},
   "source": [
    "#### NumPy Arrays:\n",
    "An array is basically a data structure which can hold more than one value at a time. It is a collection or ordered series of elements of the same type.\n",
    "Python Arrays and lists are store values in a similar way. But there is a key difference between the two i.e the values that they store. A list can store any type of values such as intergers, strings, etc. An arrays, on the other hand, stores single data type values. Therefore, you can have an array of integers, an array of strings, etc.\n",
    "* NumPy is a Python library which is used for working with arrays. \n",
    "* NumPy is short for \"Numerical Python\". NumPy arrays are stored at one continuous place in memory unlike lists, so processes can access and manipulate them very efficiently. This is the main reason why NumPy is faster than lists. "
   ]
  },
  {
   "cell_type": "markdown",
   "id": "de213b85",
   "metadata": {},
   "source": [
    "#### Installing libraries in jupyter notebook\n",
    "* To install Python libraries, we use pip command\n",
    "* !pip install library \n",
    "* Example:\n",
    "    !pip install numpy"
   ]
  },
  {
   "cell_type": "markdown",
   "id": "9ee70f6a",
   "metadata": {},
   "source": [
    "#### Importing libraries\n",
    "* Importing libraries into a program is a cost-effective way of minimizing the high-risk aspect of designing, developing, and testing software that has already gone through the development cycle.\n",
    "* import library\n",
    "* Example: import numpy as np\n",
    "* alias: In Python alias are an alternate name for referring to the same thing."
   ]
  },
  {
   "cell_type": "code",
   "execution_count": 10,
   "id": "ab9ec440",
   "metadata": {},
   "outputs": [
    {
     "name": "stdout",
     "output_type": "stream",
     "text": [
      "1.20.3\n"
     ]
    }
   ],
   "source": [
    "import numpy as np\n",
    "print(np.__version__) #checking library version"
   ]
  },
  {
   "cell_type": "code",
   "execution_count": 332,
   "id": "485b7806",
   "metadata": {},
   "outputs": [
    {
     "data": {
      "text/plain": [
       "numpy.ndarray"
      ]
     },
     "execution_count": 332,
     "metadata": {},
     "output_type": "execute_result"
    },
    {
     "data": {
      "text/plain": [
       "1"
      ]
     },
     "execution_count": 332,
     "metadata": {},
     "output_type": "execute_result"
    },
    {
     "data": {
      "text/plain": [
       "2"
      ]
     },
     "execution_count": 332,
     "metadata": {},
     "output_type": "execute_result"
    },
    {
     "data": {
      "text/plain": [
       "(5,)"
      ]
     },
     "execution_count": 332,
     "metadata": {},
     "output_type": "execute_result"
    },
    {
     "data": {
      "text/plain": [
       "(2, 3)"
      ]
     },
     "execution_count": 332,
     "metadata": {},
     "output_type": "execute_result"
    }
   ],
   "source": [
    "arr_1d = np.array((1, 2, 3, 4, 5))\n",
    "arr_2d = np.array([[1, 2, 3], [4, 5, 6]]) #represent matrix or 2nd order tensors; an array that has 1-D arrays as its elements is called a 2-D array.\n",
    "type(arr_1d)\n",
    "arr_1d.ndim #to find dimensions of an array\n",
    "arr_2d.ndim\n",
    "arr_1d.shape #to get shape of array\n",
    "arr_2d.shape #(2, 3), which means that the array has 2 dimensions, where the first dimension has 2 elements and the second has 3."
   ]
  },
  {
   "cell_type": "code",
   "execution_count": 333,
   "id": "ec0dbee8",
   "metadata": {},
   "outputs": [
    {
     "data": {
      "text/plain": [
       "array([[ 1,  2,  3],\n",
       "       [ 4,  5,  6],\n",
       "       [ 7,  8,  9],\n",
       "       [10, 11, 12]])"
      ]
     },
     "execution_count": 333,
     "metadata": {},
     "output_type": "execute_result"
    }
   ],
   "source": [
    "#reshaping arry\n",
    "arr = np.array([1, 2, 3, 4, 5, 6, 7, 8, 9, 10, 11, 12])\n",
    "newarr = arr.reshape(4, 3)\n",
    "newarr"
   ]
  },
  {
   "cell_type": "code",
   "execution_count": 317,
   "id": "e2a5124b",
   "metadata": {},
   "outputs": [
    {
     "data": {
      "text/plain": [
       "'b'"
      ]
     },
     "execution_count": 317,
     "metadata": {},
     "output_type": "execute_result"
    },
    {
     "data": {
      "text/plain": [
       "'g'"
      ]
     },
     "execution_count": 317,
     "metadata": {},
     "output_type": "execute_result"
    },
    {
     "data": {
      "text/plain": [
       "array(['a', 'b', 'c'], dtype='<U1')"
      ]
     },
     "execution_count": 317,
     "metadata": {},
     "output_type": "execute_result"
    },
    {
     "data": {
      "text/plain": [
       "array(['b', 'd', 'f'], dtype='<U1')"
      ]
     },
     "execution_count": 317,
     "metadata": {},
     "output_type": "execute_result"
    }
   ],
   "source": [
    "ar = np.array([\"a\",\"b\",\"c\",\"d\",\"e\",\"f\",\"g\",\"h\"])\n",
    "#indexing\n",
    "ar[1]\n",
    "ar[-2]#negative indexing\n",
    "#slicing\n",
    "ar[:3]\n",
    "ar[1:6:2] #step"
   ]
  },
  {
   "cell_type": "code",
   "execution_count": 323,
   "id": "c061ec00",
   "metadata": {},
   "outputs": [
    {
     "data": {
      "text/plain": [
       "2"
      ]
     },
     "execution_count": 323,
     "metadata": {},
     "output_type": "execute_result"
    },
    {
     "data": {
      "text/plain": [
       "array([7, 8, 9])"
      ]
     },
     "execution_count": 323,
     "metadata": {},
     "output_type": "execute_result"
    },
    {
     "data": {
      "text/plain": [
       "array([[2, 3, 4],\n",
       "       [7, 8, 9]])"
      ]
     },
     "execution_count": 323,
     "metadata": {},
     "output_type": "execute_result"
    }
   ],
   "source": [
    "arr = np.array([[1,2,3,4,5], [6,7,8,9,10]])\n",
    "arr[0,1] #indexing\n",
    "arr[1, 1:4] #slicing from one dimension\n",
    "arr[0:2, 1:4] #slicing from both dimensions"
   ]
  },
  {
   "cell_type": "code",
   "execution_count": 324,
   "id": "f5999d84",
   "metadata": {},
   "outputs": [
    {
     "data": {
      "text/plain": [
       "dtype('float64')"
      ]
     },
     "execution_count": 324,
     "metadata": {},
     "output_type": "execute_result"
    }
   ],
   "source": [
    "marks = np.array([23.9, 1.6, 2.0, 4.7])\n",
    "marks.dtype #get datatype of array"
   ]
  },
  {
   "cell_type": "code",
   "execution_count": 328,
   "id": "e8caa935",
   "metadata": {},
   "outputs": [
    {
     "name": "stdout",
     "output_type": "stream",
     "text": [
      "['trunk' 'steering' 'engine']\n",
      "['wheels' 'steering' 'engine']\n"
     ]
    }
   ],
   "source": [
    "#creating a copy of array\n",
    "car = np.array([\"wheels\",\"steering\",\"engine\"])\n",
    "x = car.copy()\n",
    "car[0] = \"trunk\"\n",
    "#The copy SHOULD NOT be affected by the changes made to the original array.\n",
    "print(car)\n",
    "print(x)"
   ]
  },
  {
   "cell_type": "code",
   "execution_count": 329,
   "id": "842359d9",
   "metadata": {},
   "outputs": [
    {
     "name": "stdout",
     "output_type": "stream",
     "text": [
      "['trunk' 'fuel' 'engine']\n",
      "['trunk' 'fuel' 'engine']\n"
     ]
    }
   ],
   "source": [
    "y = car.view()\n",
    "#The view SHOULD be affected by the changes made to the original array.\n",
    "car[1] = \"fuel\"\n",
    "print(car)\n",
    "print(y)"
   ]
  },
  {
   "cell_type": "code",
   "execution_count": 334,
   "id": "149bf819",
   "metadata": {},
   "outputs": [
    {
     "name": "stdout",
     "output_type": "stream",
     "text": [
      "[ 1  2  3  9 10 11]\n"
     ]
    }
   ],
   "source": [
    "#array join\n",
    "arr1 = np.array([1, 2, 3])\n",
    "arr2 = np.array([9, 10, 11])\n",
    "arr = np.concatenate((arr1, arr2))\n",
    "print(arr)"
   ]
  },
  {
   "cell_type": "code",
   "execution_count": 340,
   "id": "9bcc3f68",
   "metadata": {},
   "outputs": [
    {
     "name": "stdout",
     "output_type": "stream",
     "text": [
      "axis=0:\n"
     ]
    },
    {
     "data": {
      "text/plain": [
       "array([[1, 2],\n",
       "       [3, 4],\n",
       "       [5, 6],\n",
       "       [7, 8]])"
      ]
     },
     "execution_count": 340,
     "metadata": {},
     "output_type": "execute_result"
    },
    {
     "name": "stdout",
     "output_type": "stream",
     "text": [
      "axis=1:\n"
     ]
    },
    {
     "data": {
      "text/plain": [
       "array([[1, 2, 5, 6],\n",
       "       [3, 4, 7, 8]])"
      ]
     },
     "execution_count": 340,
     "metadata": {},
     "output_type": "execute_result"
    }
   ],
   "source": [
    "arr1 = np.array([[1, 2], [3, 4]])\n",
    "arr2 = np.array([[5, 6], [7, 8]])\n",
    "arr = np.concatenate((arr1, arr2), axis=0)\n",
    "arr1 = np.concatenate((arr1, arr2), axis=1)\n",
    "print(\"axis=0:\")\n",
    "arr\n",
    "print(\"axis=1:\")\n",
    "arr1"
   ]
  },
  {
   "cell_type": "code",
   "execution_count": 341,
   "id": "7dc20c0d",
   "metadata": {},
   "outputs": [
    {
     "name": "stdout",
     "output_type": "stream",
     "text": [
      "(array([3, 5], dtype=int64),)\n"
     ]
    }
   ],
   "source": [
    "#search for an element in array\n",
    "company = np.array([\"apple\",\"amazon\",\"google\",\"dell\",\"microsoft\",\"dell\",\"ibm\"])\n",
    "x = np.where(company == \"dell\")\n",
    "print(x)"
   ]
  },
  {
   "cell_type": "code",
   "execution_count": 344,
   "id": "32d55d9d",
   "metadata": {},
   "outputs": [
    {
     "data": {
      "text/plain": [
       "array([0, 1, 2, 3])"
      ]
     },
     "execution_count": 344,
     "metadata": {},
     "output_type": "execute_result"
    },
    {
     "data": {
      "text/plain": [
       "array([3, 2, 0, 1])"
      ]
     },
     "execution_count": 344,
     "metadata": {},
     "output_type": "execute_result"
    }
   ],
   "source": [
    "#sort array\n",
    "arr = np.array([3, 2, 0, 1])\n",
    "np.sort(arr) #returns a copy of the array, leaving the original array unchanged.\n",
    "arr"
   ]
  },
  {
   "cell_type": "code",
   "execution_count": 348,
   "id": "def0f9a5",
   "metadata": {},
   "outputs": [
    {
     "name": "stdout",
     "output_type": "stream",
     "text": [
      "[True, False, True, True, True, False, False, True]\n",
      "[19 45 25 18 67]\n"
     ]
    }
   ],
   "source": [
    "#filtering an array\n",
    "arr = np.array([19, 15, 45, 25, 18, 11, 5, 67])\n",
    "\n",
    "# Create an empty list\n",
    "filter_arr = []\n",
    "\n",
    "# go through each element in arr\n",
    "for element in arr:\n",
    "  # if the element is higher than 15, set the value to True, otherwise False:\n",
    "    if element > 15:\n",
    "        filter_arr.append(True)\n",
    "    else:\n",
    "        filter_arr.append(False)\n",
    "newarr = arr[filter_arr]\n",
    "\n",
    "print(filter_arr)\n",
    "print(newarr)"
   ]
  },
  {
   "cell_type": "markdown",
   "id": "617f3a5a",
   "metadata": {},
   "source": [
    "#### Collections"
   ]
  },
  {
   "cell_type": "code",
   "execution_count": 353,
   "id": "ac3abbe8",
   "metadata": {},
   "outputs": [
    {
     "data": {
      "text/plain": [
       "{'A': 3, 'B': 3, 'C': 1, 'D': 2}"
      ]
     },
     "execution_count": 353,
     "metadata": {},
     "output_type": "execute_result"
    }
   ],
   "source": [
    "# import\n",
    "import collections\n",
    "# initializing the list\n",
    "lst = ['A', 'A', 'B', 'C', 'B', 'D', 'D', 'A', 'B']\n",
    "# using Counter to find frequency of elements\n",
    "frequency = collections.Counter(lst)\n",
    "# printing the frequency\n",
    "dict(frequency)"
   ]
  },
  {
   "cell_type": "markdown",
   "id": "e51c9bb4",
   "metadata": {},
   "source": [
    "#### Datetime"
   ]
  },
  {
   "cell_type": "code",
   "execution_count": 354,
   "id": "925b5a98",
   "metadata": {},
   "outputs": [
    {
     "name": "stdout",
     "output_type": "stream",
     "text": [
      "2022-05-29 20:46:12.761228\n"
     ]
    }
   ],
   "source": [
    "import datetime\n",
    "x = datetime.datetime.now()\n",
    "print(x)"
   ]
  },
  {
   "cell_type": "code",
   "execution_count": 357,
   "id": "d2cd2143",
   "metadata": {},
   "outputs": [
    {
     "name": "stdout",
     "output_type": "stream",
     "text": [
      "2020\n",
      "Sunday\n",
      "May\n"
     ]
    }
   ],
   "source": [
    "print(x.year)\n",
    "print(x.strftime(\"%A\")) #Weekday, full version\n",
    "print(x.strftime(\"%B\")) #Month name, full version"
   ]
  },
  {
   "cell_type": "code",
   "execution_count": 358,
   "id": "4528aba0",
   "metadata": {},
   "outputs": [
    {
     "name": "stdout",
     "output_type": "stream",
     "text": [
      "2020-05-17 00:00:00\n"
     ]
    }
   ],
   "source": [
    "x = datetime.datetime(2020, 5, 17)\n",
    "print(x)"
   ]
  },
  {
   "cell_type": "markdown",
   "id": "91efdbdc",
   "metadata": {},
   "source": [
    "#### Handling files"
   ]
  },
  {
   "cell_type": "code",
   "execution_count": 362,
   "id": "15afec90",
   "metadata": {},
   "outputs": [
    {
     "name": "stdout",
     "output_type": "stream",
     "text": [
      "Line1: Dell:\n",
      "Line2: Who we are?\n",
      "Line3: We are a diverse team with unique perspectives. United in our purpose, our strategy and our culture. Driven by our ambition and the power of technology to drive human progress. Unwavering in our commitment to equality, trust and advocacy for one another.\n",
      "Line4: OUR PURPOSE\n",
      "Line5: We create technologies that drive human progress\n",
      "Line6: Our story began with a belief and a passion: that everybody should have easy access to the best technology anywhere in the world. That was in 1984 in Michael Dellâ€™s University of Texas dorm room. Today, Dell Technologies is instrumental in changing the digital landscape the world over.\n",
      "Line7: \n",
      "Line8: We are among the worldâ€™s leading technology companies helping to transform peopleâ€™s lives with extraordinary capabilities. From hybrid cloud solutions to high-performance computing to ambitious social impact and sustainability initiatives, what we do impacts everyone, everywhere.\n",
      "Line9: \n",
      "Line10: Source: https://www.dell.com/en-in/dt/corporate/about-us/who-we-are.htm\n"
     ]
    }
   ],
   "source": [
    "file1 = open('C:/Users/krishna_ravali_jamma/Desktop/demofile.txt', 'r') #opens file in read mode\n",
    "Lines = file1.readlines() #You can return one line by using the readline() method\n",
    "count = 0\n",
    "# Strips the newline character\n",
    "for line in Lines:\n",
    "    count += 1\n",
    "    print(\"Line{}: {}\".format(count, line.strip()))\n",
    "file1.close() #closes the file"
   ]
  },
  {
   "cell_type": "code",
   "execution_count": null,
   "id": "e2e62419",
   "metadata": {},
   "outputs": [],
   "source": [
    "f = open('C:/Users/krishna_ravali_jamma/Desktop/demofile.txt', 'r')\n",
    "for x in f:\n",
    "    print(x)\n",
    "f.close()"
   ]
  },
  {
   "cell_type": "code",
   "execution_count": 368,
   "id": "85e805e5",
   "metadata": {},
   "outputs": [
    {
     "data": {
      "text/plain": [
       "30"
      ]
     },
     "execution_count": 368,
     "metadata": {},
     "output_type": "execute_result"
    },
    {
     "data": {
      "text/plain": [
       "'Dell:\\nWho we are?\\nWe are a diverse team with unique perspectives. United in our purpose, our strategy and our culture. Driven by our ambition and the power of technology to drive human progress. Unwavering in our commitment to equality, trust and advocacy for one another.\\nOUR PURPOSE\\nWe create technologies that drive human progress\\nOur story began with a belief and a passion: that everybody should have easy access to the best technology anywhere in the world. That was in 1984 in Michael Dellâ€™s University of Texas dorm room. Today, Dell Technologies is instrumental in changing the digital landscape the world over. \\n\\nWe are among the worldâ€™s leading technology companies helping to transform peopleâ€™s lives with extraordinary capabilities. From hybrid cloud solutions to high-performance computing to ambitious social impact and sustainability initiatives, what we do impacts everyone, everywhere.\\n\\nSource: https://www.dell.com/en-in/dt/corporate/about-us/who-we-are.htm\\nNow the file has more content!'"
      ]
     },
     "execution_count": 368,
     "metadata": {},
     "output_type": "execute_result"
    }
   ],
   "source": [
    "f = open('C:/Users/krishna_ravali_jamma/Desktop/demofile.txt', 'a')\n",
    "f.write(\" Now the file has more content!\")\n",
    "f.close() #You should always close your files, in some cases, due to buffering, changes made to a file may not show until you close the file.\n",
    "f = open('C:/Users/krishna_ravali_jamma/Desktop/demofile.txt', 'r')\n",
    "f.read()\n",
    "f.close()"
   ]
  },
  {
   "cell_type": "markdown",
   "id": "74188ba0",
   "metadata": {},
   "source": [
    "#### Pandas Dataframes:\n",
    "A Pandas DataFrame is a 2 dimensional data structure, like a 2 dimensional array, or a table with rows and columns.Pandas DataFrame consists of three principal components, the data, rows, and columns.\n",
    "* Pandas is a Python library used for working with data sets.\n",
    "* It has functions for analyzing, cleaning, exploring, and manipulating data.\n",
    "* Pandas allows us to analyze big data and make conclusions based on statistical theories.\n",
    "* Pandas can clean messy data sets, and make them readable and relevant.\n",
    "* Installation: !pip install pandas"
   ]
  },
  {
   "cell_type": "code",
   "execution_count": 3,
   "id": "32dc0009",
   "metadata": {},
   "outputs": [],
   "source": [
    "import pandas as pd"
   ]
  },
  {
   "cell_type": "code",
   "execution_count": 7,
   "id": "211df9f2",
   "metadata": {},
   "outputs": [
    {
     "name": "stdout",
     "output_type": "stream",
     "text": [
      "     Name  Age    Address Qualification\n",
      "0     Jai   27      Delhi           Msc\n",
      "1  Princi   24     Kanpur            MA\n",
      "2  Gaurav   22  Allahabad           MCA\n",
      "3    Anuj   32    Kannauj           Phd\n"
     ]
    },
    {
     "data": {
      "text/plain": [
       "(4, 4)"
      ]
     },
     "execution_count": 7,
     "metadata": {},
     "output_type": "execute_result"
    }
   ],
   "source": [
    "data = {'Name':['Jai', 'Princi', 'Gaurav', 'Anuj'],\n",
    "        'Age':[27, 24, 22, 32],\n",
    "        'Address':['Delhi', 'Kanpur', 'Allahabad', 'Kannauj'],\n",
    "        'Qualification':['Msc', 'MA', 'MCA', 'Phd']}\n",
    "df = pd.DataFrame(data) #loading data to dataframe object\n",
    "type(df)\n",
    "print(df)\n",
    "df.shape #shape of dataframe"
   ]
  },
  {
   "cell_type": "code",
   "execution_count": 11,
   "id": "d4e13da7",
   "metadata": {},
   "outputs": [
    {
     "data": {
      "text/plain": [
       "0       Jai\n",
       "1    Princi\n",
       "2    Gaurav\n",
       "3      Anuj\n",
       "Name: Name, dtype: object"
      ]
     },
     "execution_count": 11,
     "metadata": {},
     "output_type": "execute_result"
    },
    {
     "data": {
      "text/plain": [
       "Name               Jai\n",
       "Age                 27\n",
       "Address          Delhi\n",
       "Qualification      Msc\n",
       "Name: 0, dtype: object"
      ]
     },
     "execution_count": 11,
     "metadata": {},
     "output_type": "execute_result"
    },
    {
     "data": {
      "text/html": [
       "<div>\n",
       "<style scoped>\n",
       "    .dataframe tbody tr th:only-of-type {\n",
       "        vertical-align: middle;\n",
       "    }\n",
       "\n",
       "    .dataframe tbody tr th {\n",
       "        vertical-align: top;\n",
       "    }\n",
       "\n",
       "    .dataframe thead th {\n",
       "        text-align: right;\n",
       "    }\n",
       "</style>\n",
       "<table border=\"1\" class=\"dataframe\">\n",
       "  <thead>\n",
       "    <tr style=\"text-align: right;\">\n",
       "      <th></th>\n",
       "      <th>Name</th>\n",
       "      <th>Age</th>\n",
       "    </tr>\n",
       "  </thead>\n",
       "  <tbody>\n",
       "    <tr>\n",
       "      <th>0</th>\n",
       "      <td>Jai</td>\n",
       "      <td>27</td>\n",
       "    </tr>\n",
       "    <tr>\n",
       "      <th>1</th>\n",
       "      <td>Princi</td>\n",
       "      <td>24</td>\n",
       "    </tr>\n",
       "    <tr>\n",
       "      <th>2</th>\n",
       "      <td>Gaurav</td>\n",
       "      <td>22</td>\n",
       "    </tr>\n",
       "    <tr>\n",
       "      <th>3</th>\n",
       "      <td>Anuj</td>\n",
       "      <td>32</td>\n",
       "    </tr>\n",
       "  </tbody>\n",
       "</table>\n",
       "</div>"
      ],
      "text/plain": [
       "     Name  Age\n",
       "0     Jai   27\n",
       "1  Princi   24\n",
       "2  Gaurav   22\n",
       "3    Anuj   32"
      ]
     },
     "execution_count": 11,
     "metadata": {},
     "output_type": "execute_result"
    }
   ],
   "source": [
    "df['Name'] #selecting one column\n",
    "df.loc[0] #display first row ; loc refers to the row index\n",
    "df[['Name','Age']] #select multiple columns"
   ]
  },
  {
   "cell_type": "markdown",
   "id": "5990299b",
   "metadata": {},
   "source": [
    "#### Reading CSV files"
   ]
  },
  {
   "cell_type": "code",
   "execution_count": 4,
   "id": "1eadf268",
   "metadata": {},
   "outputs": [
    {
     "data": {
      "text/plain": [
       "(5000, 11)"
      ]
     },
     "execution_count": 4,
     "metadata": {},
     "output_type": "execute_result"
    }
   ],
   "source": [
    "rstr=pd.read_csv(\"C:/Users/krishna_ravali_jamma/Downloads/restaurants.csv\")\n",
    "rstr.shape"
   ]
  },
  {
   "cell_type": "code",
   "execution_count": 16,
   "id": "6e0edc99",
   "metadata": {},
   "outputs": [
    {
     "data": {
      "text/plain": [
       "(5000, 11)"
      ]
     },
     "execution_count": 16,
     "metadata": {},
     "output_type": "execute_result"
    }
   ],
   "source": [
    "rstr1=pd.read_csv(r\"C:\\Users\\krishna_ravali_jamma\\Downloads\\restaurants.csv\")\n",
    "rstr1.shape"
   ]
  },
  {
   "cell_type": "code",
   "execution_count": 22,
   "id": "ee8be634",
   "metadata": {},
   "outputs": [
    {
     "name": "stdout",
     "output_type": "stream",
     "text": [
      "<class 'pandas.core.frame.DataFrame'>\n",
      "RangeIndex: 5000 entries, 0 to 4999\n",
      "Data columns (total 11 columns):\n",
      " #   Column        Non-Null Count  Dtype  \n",
      "---  ------        --------------  -----  \n",
      " 0   id            5000 non-null   int64  \n",
      " 1   position      5000 non-null   int64  \n",
      " 2   name          5000 non-null   object \n",
      " 3   score         2169 non-null   float64\n",
      " 4   ratings       2169 non-null   float64\n",
      " 5   category      4999 non-null   object \n",
      " 6   price_range   4419 non-null   object \n",
      " 7   full_address  4978 non-null   object \n",
      " 8   zip_code      4978 non-null   object \n",
      " 9   lat           5000 non-null   float64\n",
      " 10  lng           5000 non-null   float64\n",
      "dtypes: float64(4), int64(2), object(5)\n",
      "memory usage: 429.8+ KB\n"
     ]
    }
   ],
   "source": [
    "rstr.info() #prints information about a DataFrame including the index dtype and column dtypes, non-null values and memory usage"
   ]
  },
  {
   "cell_type": "code",
   "execution_count": 24,
   "id": "dada96d6",
   "metadata": {},
   "outputs": [
    {
     "data": {
      "text/html": [
       "<div>\n",
       "<style scoped>\n",
       "    .dataframe tbody tr th:only-of-type {\n",
       "        vertical-align: middle;\n",
       "    }\n",
       "\n",
       "    .dataframe tbody tr th {\n",
       "        vertical-align: top;\n",
       "    }\n",
       "\n",
       "    .dataframe thead th {\n",
       "        text-align: right;\n",
       "    }\n",
       "</style>\n",
       "<table border=\"1\" class=\"dataframe\">\n",
       "  <thead>\n",
       "    <tr style=\"text-align: right;\">\n",
       "      <th></th>\n",
       "      <th>id</th>\n",
       "      <th>position</th>\n",
       "      <th>score</th>\n",
       "      <th>ratings</th>\n",
       "      <th>lat</th>\n",
       "      <th>lng</th>\n",
       "    </tr>\n",
       "  </thead>\n",
       "  <tbody>\n",
       "    <tr>\n",
       "      <th>count</th>\n",
       "      <td>5000.000000</td>\n",
       "      <td>5000.000000</td>\n",
       "      <td>2169.000000</td>\n",
       "      <td>2169.000000</td>\n",
       "      <td>5000.000000</td>\n",
       "      <td>5000.000000</td>\n",
       "    </tr>\n",
       "    <tr>\n",
       "      <th>mean</th>\n",
       "      <td>2500.500000</td>\n",
       "      <td>46.047600</td>\n",
       "      <td>4.486860</td>\n",
       "      <td>52.863071</td>\n",
       "      <td>41.116198</td>\n",
       "      <td>-89.296382</td>\n",
       "    </tr>\n",
       "    <tr>\n",
       "      <th>std</th>\n",
       "      <td>1443.520003</td>\n",
       "      <td>60.626199</td>\n",
       "      <td>0.319114</td>\n",
       "      <td>42.944594</td>\n",
       "      <td>4.433820</td>\n",
       "      <td>5.388335</td>\n",
       "    </tr>\n",
       "    <tr>\n",
       "      <th>min</th>\n",
       "      <td>1.000000</td>\n",
       "      <td>1.000000</td>\n",
       "      <td>3.000000</td>\n",
       "      <td>10.000000</td>\n",
       "      <td>0.000000</td>\n",
       "      <td>-110.990240</td>\n",
       "    </tr>\n",
       "    <tr>\n",
       "      <th>25%</th>\n",
       "      <td>1250.750000</td>\n",
       "      <td>7.000000</td>\n",
       "      <td>4.300000</td>\n",
       "      <td>21.000000</td>\n",
       "      <td>41.786997</td>\n",
       "      <td>-89.301703</td>\n",
       "    </tr>\n",
       "    <tr>\n",
       "      <th>50%</th>\n",
       "      <td>2500.500000</td>\n",
       "      <td>21.000000</td>\n",
       "      <td>4.600000</td>\n",
       "      <td>40.000000</td>\n",
       "      <td>43.034474</td>\n",
       "      <td>-88.044550</td>\n",
       "    </tr>\n",
       "    <tr>\n",
       "      <th>75%</th>\n",
       "      <td>3750.250000</td>\n",
       "      <td>59.000000</td>\n",
       "      <td>4.700000</td>\n",
       "      <td>74.000000</td>\n",
       "      <td>43.330985</td>\n",
       "      <td>-87.782616</td>\n",
       "    </tr>\n",
       "    <tr>\n",
       "      <th>max</th>\n",
       "      <td>5000.000000</td>\n",
       "      <td>300.000000</td>\n",
       "      <td>5.000000</td>\n",
       "      <td>200.000000</td>\n",
       "      <td>46.821790</td>\n",
       "      <td>0.000000</td>\n",
       "    </tr>\n",
       "  </tbody>\n",
       "</table>\n",
       "</div>"
      ],
      "text/plain": [
       "                id     position        score      ratings          lat  \\\n",
       "count  5000.000000  5000.000000  2169.000000  2169.000000  5000.000000   \n",
       "mean   2500.500000    46.047600     4.486860    52.863071    41.116198   \n",
       "std    1443.520003    60.626199     0.319114    42.944594     4.433820   \n",
       "min       1.000000     1.000000     3.000000    10.000000     0.000000   \n",
       "25%    1250.750000     7.000000     4.300000    21.000000    41.786997   \n",
       "50%    2500.500000    21.000000     4.600000    40.000000    43.034474   \n",
       "75%    3750.250000    59.000000     4.700000    74.000000    43.330985   \n",
       "max    5000.000000   300.000000     5.000000   200.000000    46.821790   \n",
       "\n",
       "               lng  \n",
       "count  5000.000000  \n",
       "mean    -89.296382  \n",
       "std       5.388335  \n",
       "min    -110.990240  \n",
       "25%     -89.301703  \n",
       "50%     -88.044550  \n",
       "75%     -87.782616  \n",
       "max       0.000000  "
      ]
     },
     "execution_count": 24,
     "metadata": {},
     "output_type": "execute_result"
    }
   ],
   "source": [
    "rstr.describe() #returns description of the data in the DataFrame. I"
   ]
  },
  {
   "cell_type": "code",
   "execution_count": 25,
   "id": "ed885cae",
   "metadata": {},
   "outputs": [
    {
     "data": {
      "text/html": [
       "<div>\n",
       "<style scoped>\n",
       "    .dataframe tbody tr th:only-of-type {\n",
       "        vertical-align: middle;\n",
       "    }\n",
       "\n",
       "    .dataframe tbody tr th {\n",
       "        vertical-align: top;\n",
       "    }\n",
       "\n",
       "    .dataframe thead th {\n",
       "        text-align: right;\n",
       "    }\n",
       "</style>\n",
       "<table border=\"1\" class=\"dataframe\">\n",
       "  <thead>\n",
       "    <tr style=\"text-align: right;\">\n",
       "      <th></th>\n",
       "      <th>id</th>\n",
       "      <th>position</th>\n",
       "      <th>name</th>\n",
       "      <th>score</th>\n",
       "      <th>ratings</th>\n",
       "      <th>category</th>\n",
       "      <th>price_range</th>\n",
       "      <th>full_address</th>\n",
       "      <th>zip_code</th>\n",
       "      <th>lat</th>\n",
       "      <th>lng</th>\n",
       "    </tr>\n",
       "  </thead>\n",
       "  <tbody>\n",
       "    <tr>\n",
       "      <th>0</th>\n",
       "      <td>False</td>\n",
       "      <td>False</td>\n",
       "      <td>False</td>\n",
       "      <td>True</td>\n",
       "      <td>True</td>\n",
       "      <td>False</td>\n",
       "      <td>False</td>\n",
       "      <td>False</td>\n",
       "      <td>False</td>\n",
       "      <td>False</td>\n",
       "      <td>False</td>\n",
       "    </tr>\n",
       "    <tr>\n",
       "      <th>1</th>\n",
       "      <td>False</td>\n",
       "      <td>False</td>\n",
       "      <td>False</td>\n",
       "      <td>True</td>\n",
       "      <td>True</td>\n",
       "      <td>False</td>\n",
       "      <td>True</td>\n",
       "      <td>False</td>\n",
       "      <td>False</td>\n",
       "      <td>False</td>\n",
       "      <td>False</td>\n",
       "    </tr>\n",
       "    <tr>\n",
       "      <th>2</th>\n",
       "      <td>False</td>\n",
       "      <td>False</td>\n",
       "      <td>False</td>\n",
       "      <td>True</td>\n",
       "      <td>True</td>\n",
       "      <td>False</td>\n",
       "      <td>False</td>\n",
       "      <td>False</td>\n",
       "      <td>False</td>\n",
       "      <td>False</td>\n",
       "      <td>False</td>\n",
       "    </tr>\n",
       "    <tr>\n",
       "      <th>3</th>\n",
       "      <td>False</td>\n",
       "      <td>False</td>\n",
       "      <td>False</td>\n",
       "      <td>True</td>\n",
       "      <td>True</td>\n",
       "      <td>False</td>\n",
       "      <td>False</td>\n",
       "      <td>False</td>\n",
       "      <td>False</td>\n",
       "      <td>False</td>\n",
       "      <td>False</td>\n",
       "    </tr>\n",
       "    <tr>\n",
       "      <th>4</th>\n",
       "      <td>False</td>\n",
       "      <td>False</td>\n",
       "      <td>False</td>\n",
       "      <td>False</td>\n",
       "      <td>False</td>\n",
       "      <td>False</td>\n",
       "      <td>True</td>\n",
       "      <td>False</td>\n",
       "      <td>False</td>\n",
       "      <td>False</td>\n",
       "      <td>False</td>\n",
       "    </tr>\n",
       "    <tr>\n",
       "      <th>...</th>\n",
       "      <td>...</td>\n",
       "      <td>...</td>\n",
       "      <td>...</td>\n",
       "      <td>...</td>\n",
       "      <td>...</td>\n",
       "      <td>...</td>\n",
       "      <td>...</td>\n",
       "      <td>...</td>\n",
       "      <td>...</td>\n",
       "      <td>...</td>\n",
       "      <td>...</td>\n",
       "    </tr>\n",
       "    <tr>\n",
       "      <th>4995</th>\n",
       "      <td>False</td>\n",
       "      <td>False</td>\n",
       "      <td>False</td>\n",
       "      <td>True</td>\n",
       "      <td>True</td>\n",
       "      <td>False</td>\n",
       "      <td>False</td>\n",
       "      <td>False</td>\n",
       "      <td>False</td>\n",
       "      <td>False</td>\n",
       "      <td>False</td>\n",
       "    </tr>\n",
       "    <tr>\n",
       "      <th>4996</th>\n",
       "      <td>False</td>\n",
       "      <td>False</td>\n",
       "      <td>False</td>\n",
       "      <td>True</td>\n",
       "      <td>True</td>\n",
       "      <td>False</td>\n",
       "      <td>False</td>\n",
       "      <td>False</td>\n",
       "      <td>False</td>\n",
       "      <td>False</td>\n",
       "      <td>False</td>\n",
       "    </tr>\n",
       "    <tr>\n",
       "      <th>4997</th>\n",
       "      <td>False</td>\n",
       "      <td>False</td>\n",
       "      <td>False</td>\n",
       "      <td>True</td>\n",
       "      <td>True</td>\n",
       "      <td>False</td>\n",
       "      <td>False</td>\n",
       "      <td>False</td>\n",
       "      <td>False</td>\n",
       "      <td>False</td>\n",
       "      <td>False</td>\n",
       "    </tr>\n",
       "    <tr>\n",
       "      <th>4998</th>\n",
       "      <td>False</td>\n",
       "      <td>False</td>\n",
       "      <td>False</td>\n",
       "      <td>True</td>\n",
       "      <td>True</td>\n",
       "      <td>False</td>\n",
       "      <td>False</td>\n",
       "      <td>False</td>\n",
       "      <td>False</td>\n",
       "      <td>False</td>\n",
       "      <td>False</td>\n",
       "    </tr>\n",
       "    <tr>\n",
       "      <th>4999</th>\n",
       "      <td>False</td>\n",
       "      <td>False</td>\n",
       "      <td>False</td>\n",
       "      <td>True</td>\n",
       "      <td>True</td>\n",
       "      <td>False</td>\n",
       "      <td>False</td>\n",
       "      <td>False</td>\n",
       "      <td>False</td>\n",
       "      <td>False</td>\n",
       "      <td>False</td>\n",
       "    </tr>\n",
       "  </tbody>\n",
       "</table>\n",
       "<p>5000 rows × 11 columns</p>\n",
       "</div>"
      ],
      "text/plain": [
       "         id  position   name  score  ratings  category  price_range  \\\n",
       "0     False     False  False   True     True     False        False   \n",
       "1     False     False  False   True     True     False         True   \n",
       "2     False     False  False   True     True     False        False   \n",
       "3     False     False  False   True     True     False        False   \n",
       "4     False     False  False  False    False     False         True   \n",
       "...     ...       ...    ...    ...      ...       ...          ...   \n",
       "4995  False     False  False   True     True     False        False   \n",
       "4996  False     False  False   True     True     False        False   \n",
       "4997  False     False  False   True     True     False        False   \n",
       "4998  False     False  False   True     True     False        False   \n",
       "4999  False     False  False   True     True     False        False   \n",
       "\n",
       "      full_address  zip_code    lat    lng  \n",
       "0            False     False  False  False  \n",
       "1            False     False  False  False  \n",
       "2            False     False  False  False  \n",
       "3            False     False  False  False  \n",
       "4            False     False  False  False  \n",
       "...            ...       ...    ...    ...  \n",
       "4995         False     False  False  False  \n",
       "4996         False     False  False  False  \n",
       "4997         False     False  False  False  \n",
       "4998         False     False  False  False  \n",
       "4999         False     False  False  False  \n",
       "\n",
       "[5000 rows x 11 columns]"
      ]
     },
     "execution_count": 25,
     "metadata": {},
     "output_type": "execute_result"
    }
   ],
   "source": [
    "rstr.isnull() #to find nulls in dataframe"
   ]
  },
  {
   "cell_type": "code",
   "execution_count": 26,
   "id": "ff02ee34",
   "metadata": {},
   "outputs": [
    {
     "data": {
      "text/plain": [
       "Name             0\n",
       "Age              0\n",
       "Address          0\n",
       "Qualification    0\n",
       "dtype: int64"
      ]
     },
     "execution_count": 26,
     "metadata": {},
     "output_type": "execute_result"
    }
   ],
   "source": [
    "df.isnull().sum() #easier way to find count of nulls in each column"
   ]
  },
  {
   "cell_type": "code",
   "execution_count": 29,
   "id": "620f409c",
   "metadata": {},
   "outputs": [
    {
     "data": {
      "text/html": [
       "<div>\n",
       "<style scoped>\n",
       "    .dataframe tbody tr th:only-of-type {\n",
       "        vertical-align: middle;\n",
       "    }\n",
       "\n",
       "    .dataframe tbody tr th {\n",
       "        vertical-align: top;\n",
       "    }\n",
       "\n",
       "    .dataframe thead th {\n",
       "        text-align: right;\n",
       "    }\n",
       "</style>\n",
       "<table border=\"1\" class=\"dataframe\">\n",
       "  <thead>\n",
       "    <tr style=\"text-align: right;\">\n",
       "      <th></th>\n",
       "      <th>First Score</th>\n",
       "      <th>Second Score</th>\n",
       "      <th>Third Score</th>\n",
       "      <th>Fourth Score</th>\n",
       "    </tr>\n",
       "  </thead>\n",
       "  <tbody>\n",
       "    <tr>\n",
       "      <th>3</th>\n",
       "      <td>95.0</td>\n",
       "      <td>56.0</td>\n",
       "      <td>98</td>\n",
       "      <td>65.0</td>\n",
       "    </tr>\n",
       "  </tbody>\n",
       "</table>\n",
       "</div>"
      ],
      "text/plain": [
       "   First Score  Second Score  Third Score  Fourth Score\n",
       "3         95.0          56.0           98          65.0"
      ]
     },
     "execution_count": 29,
     "metadata": {},
     "output_type": "execute_result"
    },
    {
     "data": {
      "text/html": [
       "<div>\n",
       "<style scoped>\n",
       "    .dataframe tbody tr th:only-of-type {\n",
       "        vertical-align: middle;\n",
       "    }\n",
       "\n",
       "    .dataframe tbody tr th {\n",
       "        vertical-align: top;\n",
       "    }\n",
       "\n",
       "    .dataframe thead th {\n",
       "        text-align: right;\n",
       "    }\n",
       "</style>\n",
       "<table border=\"1\" class=\"dataframe\">\n",
       "  <thead>\n",
       "    <tr style=\"text-align: right;\">\n",
       "      <th></th>\n",
       "      <th>First Score</th>\n",
       "      <th>Second Score</th>\n",
       "      <th>Third Score</th>\n",
       "      <th>Fourth Score</th>\n",
       "    </tr>\n",
       "  </thead>\n",
       "  <tbody>\n",
       "    <tr>\n",
       "      <th>0</th>\n",
       "      <td>100.0</td>\n",
       "      <td>30.0</td>\n",
       "      <td>52</td>\n",
       "      <td>NaN</td>\n",
       "    </tr>\n",
       "    <tr>\n",
       "      <th>1</th>\n",
       "      <td>90.0</td>\n",
       "      <td>NaN</td>\n",
       "      <td>40</td>\n",
       "      <td>NaN</td>\n",
       "    </tr>\n",
       "    <tr>\n",
       "      <th>2</th>\n",
       "      <td>NaN</td>\n",
       "      <td>45.0</td>\n",
       "      <td>80</td>\n",
       "      <td>NaN</td>\n",
       "    </tr>\n",
       "    <tr>\n",
       "      <th>3</th>\n",
       "      <td>95.0</td>\n",
       "      <td>56.0</td>\n",
       "      <td>98</td>\n",
       "      <td>65.0</td>\n",
       "    </tr>\n",
       "  </tbody>\n",
       "</table>\n",
       "</div>"
      ],
      "text/plain": [
       "   First Score  Second Score  Third Score  Fourth Score\n",
       "0        100.0          30.0           52           NaN\n",
       "1         90.0           NaN           40           NaN\n",
       "2          NaN          45.0           80           NaN\n",
       "3         95.0          56.0           98          65.0"
      ]
     },
     "execution_count": 29,
     "metadata": {},
     "output_type": "execute_result"
    },
    {
     "data": {
      "text/html": [
       "<div>\n",
       "<style scoped>\n",
       "    .dataframe tbody tr th:only-of-type {\n",
       "        vertical-align: middle;\n",
       "    }\n",
       "\n",
       "    .dataframe tbody tr th {\n",
       "        vertical-align: top;\n",
       "    }\n",
       "\n",
       "    .dataframe thead th {\n",
       "        text-align: right;\n",
       "    }\n",
       "</style>\n",
       "<table border=\"1\" class=\"dataframe\">\n",
       "  <thead>\n",
       "    <tr style=\"text-align: right;\">\n",
       "      <th></th>\n",
       "      <th>First Score</th>\n",
       "      <th>Second Score</th>\n",
       "      <th>Third Score</th>\n",
       "      <th>Fourth Score</th>\n",
       "    </tr>\n",
       "  </thead>\n",
       "  <tbody>\n",
       "    <tr>\n",
       "      <th>0</th>\n",
       "      <td>100.0</td>\n",
       "      <td>30.0</td>\n",
       "      <td>52</td>\n",
       "      <td>0.0</td>\n",
       "    </tr>\n",
       "    <tr>\n",
       "      <th>1</th>\n",
       "      <td>90.0</td>\n",
       "      <td>0.0</td>\n",
       "      <td>40</td>\n",
       "      <td>0.0</td>\n",
       "    </tr>\n",
       "    <tr>\n",
       "      <th>2</th>\n",
       "      <td>0.0</td>\n",
       "      <td>45.0</td>\n",
       "      <td>80</td>\n",
       "      <td>0.0</td>\n",
       "    </tr>\n",
       "    <tr>\n",
       "      <th>3</th>\n",
       "      <td>95.0</td>\n",
       "      <td>56.0</td>\n",
       "      <td>98</td>\n",
       "      <td>65.0</td>\n",
       "    </tr>\n",
       "  </tbody>\n",
       "</table>\n",
       "</div>"
      ],
      "text/plain": [
       "   First Score  Second Score  Third Score  Fourth Score\n",
       "0        100.0          30.0           52           0.0\n",
       "1         90.0           0.0           40           0.0\n",
       "2          0.0          45.0           80           0.0\n",
       "3         95.0          56.0           98          65.0"
      ]
     },
     "execution_count": 29,
     "metadata": {},
     "output_type": "execute_result"
    },
    {
     "data": {
      "text/html": [
       "<div>\n",
       "<style scoped>\n",
       "    .dataframe tbody tr th:only-of-type {\n",
       "        vertical-align: middle;\n",
       "    }\n",
       "\n",
       "    .dataframe tbody tr th {\n",
       "        vertical-align: top;\n",
       "    }\n",
       "\n",
       "    .dataframe thead th {\n",
       "        text-align: right;\n",
       "    }\n",
       "</style>\n",
       "<table border=\"1\" class=\"dataframe\">\n",
       "  <thead>\n",
       "    <tr style=\"text-align: right;\">\n",
       "      <th></th>\n",
       "      <th>First Score</th>\n",
       "      <th>Second Score</th>\n",
       "      <th>Third Score</th>\n",
       "      <th>Fourth Score</th>\n",
       "    </tr>\n",
       "  </thead>\n",
       "  <tbody>\n",
       "    <tr>\n",
       "      <th>0</th>\n",
       "      <td>100.0</td>\n",
       "      <td>30.0</td>\n",
       "      <td>52</td>\n",
       "      <td>NaN</td>\n",
       "    </tr>\n",
       "    <tr>\n",
       "      <th>1</th>\n",
       "      <td>90.0</td>\n",
       "      <td>NaN</td>\n",
       "      <td>40</td>\n",
       "      <td>NaN</td>\n",
       "    </tr>\n",
       "    <tr>\n",
       "      <th>2</th>\n",
       "      <td>NaN</td>\n",
       "      <td>45.0</td>\n",
       "      <td>80</td>\n",
       "      <td>NaN</td>\n",
       "    </tr>\n",
       "    <tr>\n",
       "      <th>3</th>\n",
       "      <td>95.0</td>\n",
       "      <td>56.0</td>\n",
       "      <td>98</td>\n",
       "      <td>65.0</td>\n",
       "    </tr>\n",
       "  </tbody>\n",
       "</table>\n",
       "</div>"
      ],
      "text/plain": [
       "   First Score  Second Score  Third Score  Fourth Score\n",
       "0        100.0          30.0           52           NaN\n",
       "1         90.0           NaN           40           NaN\n",
       "2          NaN          45.0           80           NaN\n",
       "3         95.0          56.0           98          65.0"
      ]
     },
     "execution_count": 29,
     "metadata": {},
     "output_type": "execute_result"
    }
   ],
   "source": [
    "import numpy as np\n",
    "dict = {'First Score':[100, 90, np.nan, 95],\n",
    "        'Second Score': [30, np.nan, 45, 56],\n",
    "        'Third Score':[52, 40, 80, 98],\n",
    "        'Fourth Score':[np.nan, np.nan, np.nan, 65]}\n",
    "df = pd.DataFrame(dict)\n",
    "#drop rows with at least one Nan value (Null value)\n",
    "df.dropna()\n",
    "df\n",
    "df.fillna(0)\n",
    "df"
   ]
  },
  {
   "cell_type": "code",
   "execution_count": 35,
   "id": "28cf173b",
   "metadata": {},
   "outputs": [
    {
     "data": {
      "text/html": [
       "<div>\n",
       "<style scoped>\n",
       "    .dataframe tbody tr th:only-of-type {\n",
       "        vertical-align: middle;\n",
       "    }\n",
       "\n",
       "    .dataframe tbody tr th {\n",
       "        vertical-align: top;\n",
       "    }\n",
       "\n",
       "    .dataframe thead th {\n",
       "        text-align: right;\n",
       "    }\n",
       "</style>\n",
       "<table border=\"1\" class=\"dataframe\">\n",
       "  <thead>\n",
       "    <tr style=\"text-align: right;\">\n",
       "      <th></th>\n",
       "      <th>id</th>\n",
       "      <th>position</th>\n",
       "      <th>name</th>\n",
       "      <th>score</th>\n",
       "      <th>ratings</th>\n",
       "      <th>category</th>\n",
       "      <th>price_range</th>\n",
       "      <th>full_address</th>\n",
       "      <th>zip_code</th>\n",
       "      <th>lat</th>\n",
       "      <th>lng</th>\n",
       "    </tr>\n",
       "  </thead>\n",
       "  <tbody>\n",
       "    <tr>\n",
       "      <th>0</th>\n",
       "      <td>1</td>\n",
       "      <td>19</td>\n",
       "      <td>PJ Fresh (224 Daniel Payne Drive)</td>\n",
       "      <td>NaN</td>\n",
       "      <td>NaN</td>\n",
       "      <td>Burgers, American, Sandwiches</td>\n",
       "      <td>$</td>\n",
       "      <td>224 Daniel Payne Drive, Birmingham, AL, 35207</td>\n",
       "      <td>35207</td>\n",
       "      <td>33.562365</td>\n",
       "      <td>-86.830703</td>\n",
       "    </tr>\n",
       "    <tr>\n",
       "      <th>1</th>\n",
       "      <td>2</td>\n",
       "      <td>9</td>\n",
       "      <td>J' ti`'z Smoothie-N-Coffee Bar</td>\n",
       "      <td>NaN</td>\n",
       "      <td>NaN</td>\n",
       "      <td>Coffee and Tea, Breakfast and Brunch, Bubble Tea</td>\n",
       "      <td>NaN</td>\n",
       "      <td>1521 Pinson Valley Parkway, Birmingham, AL, 35217</td>\n",
       "      <td>35217</td>\n",
       "      <td>33.583640</td>\n",
       "      <td>-86.773330</td>\n",
       "    </tr>\n",
       "  </tbody>\n",
       "</table>\n",
       "</div>"
      ],
      "text/plain": [
       "   id  position                               name  score  ratings  \\\n",
       "0   1        19  PJ Fresh (224 Daniel Payne Drive)    NaN      NaN   \n",
       "1   2         9     J' ti`'z Smoothie-N-Coffee Bar    NaN      NaN   \n",
       "\n",
       "                                           category price_range  \\\n",
       "0                     Burgers, American, Sandwiches           $   \n",
       "1  Coffee and Tea, Breakfast and Brunch, Bubble Tea         NaN   \n",
       "\n",
       "                                        full_address zip_code        lat  \\\n",
       "0      224 Daniel Payne Drive, Birmingham, AL, 35207    35207  33.562365   \n",
       "1  1521 Pinson Valley Parkway, Birmingham, AL, 35217    35217  33.583640   \n",
       "\n",
       "         lng  \n",
       "0 -86.830703  \n",
       "1 -86.773330  "
      ]
     },
     "execution_count": 35,
     "metadata": {},
     "output_type": "execute_result"
    },
    {
     "data": {
      "text/html": [
       "<div>\n",
       "<style scoped>\n",
       "    .dataframe tbody tr th:only-of-type {\n",
       "        vertical-align: middle;\n",
       "    }\n",
       "\n",
       "    .dataframe tbody tr th {\n",
       "        vertical-align: top;\n",
       "    }\n",
       "\n",
       "    .dataframe thead th {\n",
       "        text-align: right;\n",
       "    }\n",
       "</style>\n",
       "<table border=\"1\" class=\"dataframe\">\n",
       "  <thead>\n",
       "    <tr style=\"text-align: right;\">\n",
       "      <th></th>\n",
       "      <th>id</th>\n",
       "      <th>position</th>\n",
       "      <th>name</th>\n",
       "      <th>score</th>\n",
       "      <th>ratings</th>\n",
       "      <th>category</th>\n",
       "      <th>price_range</th>\n",
       "      <th>full_address</th>\n",
       "      <th>zip_code</th>\n",
       "      <th>lat</th>\n",
       "      <th>lng</th>\n",
       "    </tr>\n",
       "  </thead>\n",
       "  <tbody>\n",
       "    <tr>\n",
       "      <th>0</th>\n",
       "      <td>1</td>\n",
       "      <td>19</td>\n",
       "      <td>PJ Fresh (224 Daniel Payne Drive)</td>\n",
       "      <td>NaN</td>\n",
       "      <td>NaN</td>\n",
       "      <td>Burgers, American, Sandwiches</td>\n",
       "      <td>$</td>\n",
       "      <td>224 Daniel Payne Drive, Birmingham, AL, 35207</td>\n",
       "      <td>35207</td>\n",
       "      <td>33.562365</td>\n",
       "      <td>-86.830703</td>\n",
       "    </tr>\n",
       "    <tr>\n",
       "      <th>1</th>\n",
       "      <td>2</td>\n",
       "      <td>9</td>\n",
       "      <td>J' ti`'z Smoothie-N-Coffee Bar</td>\n",
       "      <td>NaN</td>\n",
       "      <td>NaN</td>\n",
       "      <td>Coffee and Tea, Breakfast and Brunch, Bubble Tea</td>\n",
       "      <td>NaN</td>\n",
       "      <td>1521 Pinson Valley Parkway, Birmingham, AL, 35217</td>\n",
       "      <td>35217</td>\n",
       "      <td>33.583640</td>\n",
       "      <td>-86.773330</td>\n",
       "    </tr>\n",
       "    <tr>\n",
       "      <th>2</th>\n",
       "      <td>3</td>\n",
       "      <td>6</td>\n",
       "      <td>Philly Fresh Cheesesteaks (541-B Graymont Ave)</td>\n",
       "      <td>NaN</td>\n",
       "      <td>NaN</td>\n",
       "      <td>American, Cheesesteak, Sandwiches, Alcohol</td>\n",
       "      <td>$</td>\n",
       "      <td>541-B Graymont Ave, Birmingham, AL, 35204</td>\n",
       "      <td>35204</td>\n",
       "      <td>33.509800</td>\n",
       "      <td>-86.854640</td>\n",
       "    </tr>\n",
       "    <tr>\n",
       "      <th>3</th>\n",
       "      <td>4</td>\n",
       "      <td>17</td>\n",
       "      <td>Papa Murphy's (1580 Montgomery Highway)</td>\n",
       "      <td>NaN</td>\n",
       "      <td>NaN</td>\n",
       "      <td>Pizza</td>\n",
       "      <td>$</td>\n",
       "      <td>1580 Montgomery Highway, Hoover, AL, 35226</td>\n",
       "      <td>35226</td>\n",
       "      <td>33.404439</td>\n",
       "      <td>-86.806614</td>\n",
       "    </tr>\n",
       "    <tr>\n",
       "      <th>4</th>\n",
       "      <td>5</td>\n",
       "      <td>162</td>\n",
       "      <td>Nelson Brothers Cafe (17th St N)</td>\n",
       "      <td>4.7</td>\n",
       "      <td>22.0</td>\n",
       "      <td>Breakfast and Brunch, Burgers, Sandwiches</td>\n",
       "      <td>NaN</td>\n",
       "      <td>314 17th St N, Birmingham, AL, 35203</td>\n",
       "      <td>35203</td>\n",
       "      <td>33.514730</td>\n",
       "      <td>-86.811700</td>\n",
       "    </tr>\n",
       "  </tbody>\n",
       "</table>\n",
       "</div>"
      ],
      "text/plain": [
       "   id  position                                            name  score  \\\n",
       "0   1        19               PJ Fresh (224 Daniel Payne Drive)    NaN   \n",
       "1   2         9                  J' ti`'z Smoothie-N-Coffee Bar    NaN   \n",
       "2   3         6  Philly Fresh Cheesesteaks (541-B Graymont Ave)    NaN   \n",
       "3   4        17         Papa Murphy's (1580 Montgomery Highway)    NaN   \n",
       "4   5       162                Nelson Brothers Cafe (17th St N)    4.7   \n",
       "\n",
       "   ratings                                          category price_range  \\\n",
       "0      NaN                     Burgers, American, Sandwiches           $   \n",
       "1      NaN  Coffee and Tea, Breakfast and Brunch, Bubble Tea         NaN   \n",
       "2      NaN        American, Cheesesteak, Sandwiches, Alcohol           $   \n",
       "3      NaN                                             Pizza           $   \n",
       "4     22.0         Breakfast and Brunch, Burgers, Sandwiches         NaN   \n",
       "\n",
       "                                        full_address zip_code        lat  \\\n",
       "0      224 Daniel Payne Drive, Birmingham, AL, 35207    35207  33.562365   \n",
       "1  1521 Pinson Valley Parkway, Birmingham, AL, 35217    35217  33.583640   \n",
       "2          541-B Graymont Ave, Birmingham, AL, 35204    35204  33.509800   \n",
       "3         1580 Montgomery Highway, Hoover, AL, 35226    35226  33.404439   \n",
       "4               314 17th St N, Birmingham, AL, 35203    35203  33.514730   \n",
       "\n",
       "         lng  \n",
       "0 -86.830703  \n",
       "1 -86.773330  \n",
       "2 -86.854640  \n",
       "3 -86.806614  \n",
       "4 -86.811700  "
      ]
     },
     "execution_count": 35,
     "metadata": {},
     "output_type": "execute_result"
    },
    {
     "data": {
      "text/html": [
       "<div>\n",
       "<style scoped>\n",
       "    .dataframe tbody tr th:only-of-type {\n",
       "        vertical-align: middle;\n",
       "    }\n",
       "\n",
       "    .dataframe tbody tr th {\n",
       "        vertical-align: top;\n",
       "    }\n",
       "\n",
       "    .dataframe thead th {\n",
       "        text-align: right;\n",
       "    }\n",
       "</style>\n",
       "<table border=\"1\" class=\"dataframe\">\n",
       "  <thead>\n",
       "    <tr style=\"text-align: right;\">\n",
       "      <th></th>\n",
       "      <th>id</th>\n",
       "      <th>position</th>\n",
       "      <th>name</th>\n",
       "      <th>score</th>\n",
       "      <th>ratings</th>\n",
       "      <th>category</th>\n",
       "      <th>price_range</th>\n",
       "      <th>full_address</th>\n",
       "      <th>zip_code</th>\n",
       "      <th>lat</th>\n",
       "      <th>lng</th>\n",
       "    </tr>\n",
       "  </thead>\n",
       "  <tbody>\n",
       "    <tr>\n",
       "      <th>4999</th>\n",
       "      <td>5000</td>\n",
       "      <td>11</td>\n",
       "      <td>Covered Wagon Restaurant</td>\n",
       "      <td>NaN</td>\n",
       "      <td>NaN</td>\n",
       "      <td>Burgers, American, Sandwiches</td>\n",
       "      <td>$$</td>\n",
       "      <td>2013 N Rapids Rd, Manitowoc, WI, 54220</td>\n",
       "      <td>54220</td>\n",
       "      <td>44.12207</td>\n",
       "      <td>-87.70823</td>\n",
       "    </tr>\n",
       "  </tbody>\n",
       "</table>\n",
       "</div>"
      ],
      "text/plain": [
       "        id  position                      name  score  ratings  \\\n",
       "4999  5000        11  Covered Wagon Restaurant    NaN      NaN   \n",
       "\n",
       "                           category price_range  \\\n",
       "4999  Burgers, American, Sandwiches          $$   \n",
       "\n",
       "                                full_address zip_code       lat       lng  \n",
       "4999  2013 N Rapids Rd, Manitowoc, WI, 54220    54220  44.12207 -87.70823  "
      ]
     },
     "execution_count": 35,
     "metadata": {},
     "output_type": "execute_result"
    }
   ],
   "source": [
    "rstr.head(2) #returns the first five rows of the dataframe by default.\n",
    "rstr.head()\n",
    "rstr.tail(1)"
   ]
  },
  {
   "cell_type": "code",
   "execution_count": 39,
   "id": "a8d15a87",
   "metadata": {},
   "outputs": [
    {
     "data": {
      "text/html": [
       "<div>\n",
       "<style scoped>\n",
       "    .dataframe tbody tr th:only-of-type {\n",
       "        vertical-align: middle;\n",
       "    }\n",
       "\n",
       "    .dataframe tbody tr th {\n",
       "        vertical-align: top;\n",
       "    }\n",
       "\n",
       "    .dataframe thead th {\n",
       "        text-align: right;\n",
       "    }\n",
       "</style>\n",
       "<table border=\"1\" class=\"dataframe\">\n",
       "  <thead>\n",
       "    <tr style=\"text-align: right;\">\n",
       "      <th></th>\n",
       "      <th>id</th>\n",
       "      <th>name</th>\n",
       "      <th>ratings</th>\n",
       "    </tr>\n",
       "  </thead>\n",
       "  <tbody>\n",
       "    <tr>\n",
       "      <th>0</th>\n",
       "      <td>1</td>\n",
       "      <td>PJ Fresh (224 Daniel Payne Drive)</td>\n",
       "      <td>NaN</td>\n",
       "    </tr>\n",
       "    <tr>\n",
       "      <th>1</th>\n",
       "      <td>2</td>\n",
       "      <td>J' ti`'z Smoothie-N-Coffee Bar</td>\n",
       "      <td>NaN</td>\n",
       "    </tr>\n",
       "    <tr>\n",
       "      <th>2</th>\n",
       "      <td>3</td>\n",
       "      <td>Philly Fresh Cheesesteaks (541-B Graymont Ave)</td>\n",
       "      <td>NaN</td>\n",
       "    </tr>\n",
       "    <tr>\n",
       "      <th>3</th>\n",
       "      <td>4</td>\n",
       "      <td>Papa Murphy's (1580 Montgomery Highway)</td>\n",
       "      <td>NaN</td>\n",
       "    </tr>\n",
       "    <tr>\n",
       "      <th>4</th>\n",
       "      <td>5</td>\n",
       "      <td>Nelson Brothers Cafe (17th St N)</td>\n",
       "      <td>22.0</td>\n",
       "    </tr>\n",
       "  </tbody>\n",
       "</table>\n",
       "</div>"
      ],
      "text/plain": [
       "   id                                            name  ratings\n",
       "0   1               PJ Fresh (224 Daniel Payne Drive)      NaN\n",
       "1   2                  J' ti`'z Smoothie-N-Coffee Bar      NaN\n",
       "2   3  Philly Fresh Cheesesteaks (541-B Graymont Ave)      NaN\n",
       "3   4         Papa Murphy's (1580 Montgomery Highway)      NaN\n",
       "4   5                Nelson Brothers Cafe (17th St N)     22.0"
      ]
     },
     "execution_count": 39,
     "metadata": {},
     "output_type": "execute_result"
    },
    {
     "data": {
      "text/html": [
       "<div>\n",
       "<style scoped>\n",
       "    .dataframe tbody tr th:only-of-type {\n",
       "        vertical-align: middle;\n",
       "    }\n",
       "\n",
       "    .dataframe tbody tr th {\n",
       "        vertical-align: top;\n",
       "    }\n",
       "\n",
       "    .dataframe thead th {\n",
       "        text-align: right;\n",
       "    }\n",
       "</style>\n",
       "<table border=\"1\" class=\"dataframe\">\n",
       "  <thead>\n",
       "    <tr style=\"text-align: right;\">\n",
       "      <th></th>\n",
       "      <th>id</th>\n",
       "      <th>name</th>\n",
       "      <th>ratings</th>\n",
       "    </tr>\n",
       "  </thead>\n",
       "  <tbody>\n",
       "    <tr>\n",
       "      <th>0</th>\n",
       "      <td>1</td>\n",
       "      <td>PJ Fresh (224 Daniel Payne Drive)</td>\n",
       "      <td>NaN</td>\n",
       "    </tr>\n",
       "    <tr>\n",
       "      <th>1</th>\n",
       "      <td>2</td>\n",
       "      <td>J' ti`'z Smoothie-N-Coffee Bar</td>\n",
       "      <td>NaN</td>\n",
       "    </tr>\n",
       "    <tr>\n",
       "      <th>2</th>\n",
       "      <td>3</td>\n",
       "      <td>Philly Fresh Cheesesteaks (541-B Graymont Ave)</td>\n",
       "      <td>NaN</td>\n",
       "    </tr>\n",
       "    <tr>\n",
       "      <th>3</th>\n",
       "      <td>4</td>\n",
       "      <td>Papa Murphy's (1580 Montgomery Highway)</td>\n",
       "      <td>NaN</td>\n",
       "    </tr>\n",
       "  </tbody>\n",
       "</table>\n",
       "</div>"
      ],
      "text/plain": [
       "   id                                            name  ratings\n",
       "0   1               PJ Fresh (224 Daniel Payne Drive)      NaN\n",
       "1   2                  J' ti`'z Smoothie-N-Coffee Bar      NaN\n",
       "2   3  Philly Fresh Cheesesteaks (541-B Graymont Ave)      NaN\n",
       "3   4         Papa Murphy's (1580 Montgomery Highway)      NaN"
      ]
     },
     "execution_count": 39,
     "metadata": {},
     "output_type": "execute_result"
    }
   ],
   "source": [
    "#loc vs iloc\n",
    "rstr.loc[0:4, ['id', 'name', 'ratings']]\n",
    "rstr.iloc[0:4, [0, 2, 4]]"
   ]
  },
  {
   "cell_type": "code",
   "execution_count": 40,
   "id": "7a1a7601",
   "metadata": {},
   "outputs": [
    {
     "data": {
      "text/plain": [
       "100.0    171\n",
       "12.0      70\n",
       "11.0      67\n",
       "200.0     58\n",
       "10.0      55\n",
       "        ... \n",
       "178.0      1\n",
       "117.0      1\n",
       "159.0      1\n",
       "154.0      1\n",
       "111.0      1\n",
       "Name: ratings, Length: 165, dtype: int64"
      ]
     },
     "execution_count": 40,
     "metadata": {},
     "output_type": "execute_result"
    }
   ],
   "source": [
    "rstr.ratings.value_counts() #help us in identifying the number of occurrences of each unique value"
   ]
  },
  {
   "cell_type": "code",
   "execution_count": 6,
   "id": "fcbc183c",
   "metadata": {},
   "outputs": [
    {
     "data": {
      "text/html": [
       "<div>\n",
       "<style scoped>\n",
       "    .dataframe tbody tr th:only-of-type {\n",
       "        vertical-align: middle;\n",
       "    }\n",
       "\n",
       "    .dataframe tbody tr th {\n",
       "        vertical-align: top;\n",
       "    }\n",
       "\n",
       "    .dataframe thead th {\n",
       "        text-align: right;\n",
       "    }\n",
       "</style>\n",
       "<table border=\"1\" class=\"dataframe\">\n",
       "  <thead>\n",
       "    <tr style=\"text-align: right;\">\n",
       "      <th></th>\n",
       "      <th>id</th>\n",
       "      <th>position</th>\n",
       "      <th>name</th>\n",
       "      <th>score</th>\n",
       "      <th>ratings</th>\n",
       "      <th>category</th>\n",
       "      <th>price_range</th>\n",
       "      <th>full_address</th>\n",
       "      <th>zip_code</th>\n",
       "    </tr>\n",
       "  </thead>\n",
       "  <tbody>\n",
       "    <tr>\n",
       "      <th>0</th>\n",
       "      <td>1</td>\n",
       "      <td>19</td>\n",
       "      <td>PJ Fresh (224 Daniel Payne Drive)</td>\n",
       "      <td>NaN</td>\n",
       "      <td>NaN</td>\n",
       "      <td>Burgers, American, Sandwiches</td>\n",
       "      <td>$</td>\n",
       "      <td>224 Daniel Payne Drive, Birmingham, AL, 35207</td>\n",
       "      <td>35207</td>\n",
       "    </tr>\n",
       "    <tr>\n",
       "      <th>1</th>\n",
       "      <td>2</td>\n",
       "      <td>9</td>\n",
       "      <td>J' ti`'z Smoothie-N-Coffee Bar</td>\n",
       "      <td>NaN</td>\n",
       "      <td>NaN</td>\n",
       "      <td>Coffee and Tea, Breakfast and Brunch, Bubble Tea</td>\n",
       "      <td>NaN</td>\n",
       "      <td>1521 Pinson Valley Parkway, Birmingham, AL, 35217</td>\n",
       "      <td>35217</td>\n",
       "    </tr>\n",
       "    <tr>\n",
       "      <th>2</th>\n",
       "      <td>3</td>\n",
       "      <td>6</td>\n",
       "      <td>Philly Fresh Cheesesteaks (541-B Graymont Ave)</td>\n",
       "      <td>NaN</td>\n",
       "      <td>NaN</td>\n",
       "      <td>American, Cheesesteak, Sandwiches, Alcohol</td>\n",
       "      <td>$</td>\n",
       "      <td>541-B Graymont Ave, Birmingham, AL, 35204</td>\n",
       "      <td>35204</td>\n",
       "    </tr>\n",
       "    <tr>\n",
       "      <th>3</th>\n",
       "      <td>4</td>\n",
       "      <td>17</td>\n",
       "      <td>Papa Murphy's (1580 Montgomery Highway)</td>\n",
       "      <td>NaN</td>\n",
       "      <td>NaN</td>\n",
       "      <td>Pizza</td>\n",
       "      <td>$</td>\n",
       "      <td>1580 Montgomery Highway, Hoover, AL, 35226</td>\n",
       "      <td>35226</td>\n",
       "    </tr>\n",
       "    <tr>\n",
       "      <th>4</th>\n",
       "      <td>5</td>\n",
       "      <td>162</td>\n",
       "      <td>Nelson Brothers Cafe (17th St N)</td>\n",
       "      <td>4.7</td>\n",
       "      <td>22.0</td>\n",
       "      <td>Breakfast and Brunch, Burgers, Sandwiches</td>\n",
       "      <td>NaN</td>\n",
       "      <td>314 17th St N, Birmingham, AL, 35203</td>\n",
       "      <td>35203</td>\n",
       "    </tr>\n",
       "    <tr>\n",
       "      <th>...</th>\n",
       "      <td>...</td>\n",
       "      <td>...</td>\n",
       "      <td>...</td>\n",
       "      <td>...</td>\n",
       "      <td>...</td>\n",
       "      <td>...</td>\n",
       "      <td>...</td>\n",
       "      <td>...</td>\n",
       "      <td>...</td>\n",
       "    </tr>\n",
       "    <tr>\n",
       "      <th>4995</th>\n",
       "      <td>4996</td>\n",
       "      <td>12</td>\n",
       "      <td>Legend Larry's</td>\n",
       "      <td>NaN</td>\n",
       "      <td>NaN</td>\n",
       "      <td>Wings, American, Fast Food</td>\n",
       "      <td>$$</td>\n",
       "      <td>921 S 10th St, Manitowoc, WI, 54220</td>\n",
       "      <td>54220</td>\n",
       "    </tr>\n",
       "    <tr>\n",
       "      <th>4996</th>\n",
       "      <td>4997</td>\n",
       "      <td>7</td>\n",
       "      <td>Subway (311 N Rapids Rd)</td>\n",
       "      <td>NaN</td>\n",
       "      <td>NaN</td>\n",
       "      <td>Fast Food, Sandwich, American</td>\n",
       "      <td>$</td>\n",
       "      <td>311 N Rapids Rd, Manitowoc, WI, 54220</td>\n",
       "      <td>54220</td>\n",
       "    </tr>\n",
       "    <tr>\n",
       "      <th>4997</th>\n",
       "      <td>4998</td>\n",
       "      <td>1</td>\n",
       "      <td>Walgreens (2702 CALUMET AVE)</td>\n",
       "      <td>NaN</td>\n",
       "      <td>NaN</td>\n",
       "      <td>Pharmacy, Convenience, Everyday Essentials, Baby</td>\n",
       "      <td>$</td>\n",
       "      <td>2702 Calumet Ave, Manitowoc, WI, 54220</td>\n",
       "      <td>54220</td>\n",
       "    </tr>\n",
       "    <tr>\n",
       "      <th>4998</th>\n",
       "      <td>4999</td>\n",
       "      <td>2</td>\n",
       "      <td>Panda Express (4510 Calumet Ave.)</td>\n",
       "      <td>NaN</td>\n",
       "      <td>NaN</td>\n",
       "      <td>Asian, Chinese, Family Meals</td>\n",
       "      <td>$</td>\n",
       "      <td>4510 Calumet Ave., Manitowoc, WI, 54220</td>\n",
       "      <td>54220</td>\n",
       "    </tr>\n",
       "    <tr>\n",
       "      <th>4999</th>\n",
       "      <td>5000</td>\n",
       "      <td>11</td>\n",
       "      <td>Covered Wagon Restaurant</td>\n",
       "      <td>NaN</td>\n",
       "      <td>NaN</td>\n",
       "      <td>Burgers, American, Sandwiches</td>\n",
       "      <td>$$</td>\n",
       "      <td>2013 N Rapids Rd, Manitowoc, WI, 54220</td>\n",
       "      <td>54220</td>\n",
       "    </tr>\n",
       "  </tbody>\n",
       "</table>\n",
       "<p>5000 rows × 9 columns</p>\n",
       "</div>"
      ],
      "text/plain": [
       "        id  position                                            name  score  \\\n",
       "0        1        19               PJ Fresh (224 Daniel Payne Drive)    NaN   \n",
       "1        2         9                  J' ti`'z Smoothie-N-Coffee Bar    NaN   \n",
       "2        3         6  Philly Fresh Cheesesteaks (541-B Graymont Ave)    NaN   \n",
       "3        4        17         Papa Murphy's (1580 Montgomery Highway)    NaN   \n",
       "4        5       162                Nelson Brothers Cafe (17th St N)    4.7   \n",
       "...    ...       ...                                             ...    ...   \n",
       "4995  4996        12                                  Legend Larry's    NaN   \n",
       "4996  4997         7                        Subway (311 N Rapids Rd)    NaN   \n",
       "4997  4998         1                    Walgreens (2702 CALUMET AVE)    NaN   \n",
       "4998  4999         2               Panda Express (4510 Calumet Ave.)    NaN   \n",
       "4999  5000        11                        Covered Wagon Restaurant    NaN   \n",
       "\n",
       "      ratings                                          category price_range  \\\n",
       "0         NaN                     Burgers, American, Sandwiches           $   \n",
       "1         NaN  Coffee and Tea, Breakfast and Brunch, Bubble Tea         NaN   \n",
       "2         NaN        American, Cheesesteak, Sandwiches, Alcohol           $   \n",
       "3         NaN                                             Pizza           $   \n",
       "4        22.0         Breakfast and Brunch, Burgers, Sandwiches         NaN   \n",
       "...       ...                                               ...         ...   \n",
       "4995      NaN                        Wings, American, Fast Food          $$   \n",
       "4996      NaN                     Fast Food, Sandwich, American           $   \n",
       "4997      NaN  Pharmacy, Convenience, Everyday Essentials, Baby           $   \n",
       "4998      NaN                      Asian, Chinese, Family Meals           $   \n",
       "4999      NaN                     Burgers, American, Sandwiches          $$   \n",
       "\n",
       "                                           full_address zip_code  \n",
       "0         224 Daniel Payne Drive, Birmingham, AL, 35207    35207  \n",
       "1     1521 Pinson Valley Parkway, Birmingham, AL, 35217    35217  \n",
       "2             541-B Graymont Ave, Birmingham, AL, 35204    35204  \n",
       "3            1580 Montgomery Highway, Hoover, AL, 35226    35226  \n",
       "4                  314 17th St N, Birmingham, AL, 35203    35203  \n",
       "...                                                 ...      ...  \n",
       "4995                921 S 10th St, Manitowoc, WI, 54220    54220  \n",
       "4996              311 N Rapids Rd, Manitowoc, WI, 54220    54220  \n",
       "4997             2702 Calumet Ave, Manitowoc, WI, 54220    54220  \n",
       "4998            4510 Calumet Ave., Manitowoc, WI, 54220    54220  \n",
       "4999             2013 N Rapids Rd, Manitowoc, WI, 54220    54220  \n",
       "\n",
       "[5000 rows x 9 columns]"
      ]
     },
     "execution_count": 6,
     "metadata": {},
     "output_type": "execute_result"
    },
    {
     "data": {
      "text/html": [
       "<div>\n",
       "<style scoped>\n",
       "    .dataframe tbody tr th:only-of-type {\n",
       "        vertical-align: middle;\n",
       "    }\n",
       "\n",
       "    .dataframe tbody tr th {\n",
       "        vertical-align: top;\n",
       "    }\n",
       "\n",
       "    .dataframe thead th {\n",
       "        text-align: right;\n",
       "    }\n",
       "</style>\n",
       "<table border=\"1\" class=\"dataframe\">\n",
       "  <thead>\n",
       "    <tr style=\"text-align: right;\">\n",
       "      <th></th>\n",
       "      <th>id</th>\n",
       "      <th>position</th>\n",
       "      <th>name</th>\n",
       "      <th>score</th>\n",
       "      <th>ratings</th>\n",
       "      <th>category</th>\n",
       "      <th>price_range</th>\n",
       "      <th>full_address</th>\n",
       "      <th>zip_code</th>\n",
       "      <th>lat</th>\n",
       "      <th>lng</th>\n",
       "    </tr>\n",
       "  </thead>\n",
       "  <tbody>\n",
       "    <tr>\n",
       "      <th>0</th>\n",
       "      <td>1</td>\n",
       "      <td>19</td>\n",
       "      <td>PJ Fresh (224 Daniel Payne Drive)</td>\n",
       "      <td>NaN</td>\n",
       "      <td>NaN</td>\n",
       "      <td>Burgers, American, Sandwiches</td>\n",
       "      <td>$</td>\n",
       "      <td>224 Daniel Payne Drive, Birmingham, AL, 35207</td>\n",
       "      <td>35207</td>\n",
       "      <td>33.562365</td>\n",
       "      <td>-86.830703</td>\n",
       "    </tr>\n",
       "    <tr>\n",
       "      <th>1</th>\n",
       "      <td>2</td>\n",
       "      <td>9</td>\n",
       "      <td>J' ti`'z Smoothie-N-Coffee Bar</td>\n",
       "      <td>NaN</td>\n",
       "      <td>NaN</td>\n",
       "      <td>Coffee and Tea, Breakfast and Brunch, Bubble Tea</td>\n",
       "      <td>NaN</td>\n",
       "      <td>1521 Pinson Valley Parkway, Birmingham, AL, 35217</td>\n",
       "      <td>35217</td>\n",
       "      <td>33.583640</td>\n",
       "      <td>-86.773330</td>\n",
       "    </tr>\n",
       "    <tr>\n",
       "      <th>2</th>\n",
       "      <td>3</td>\n",
       "      <td>6</td>\n",
       "      <td>Philly Fresh Cheesesteaks (541-B Graymont Ave)</td>\n",
       "      <td>NaN</td>\n",
       "      <td>NaN</td>\n",
       "      <td>American, Cheesesteak, Sandwiches, Alcohol</td>\n",
       "      <td>$</td>\n",
       "      <td>541-B Graymont Ave, Birmingham, AL, 35204</td>\n",
       "      <td>35204</td>\n",
       "      <td>33.509800</td>\n",
       "      <td>-86.854640</td>\n",
       "    </tr>\n",
       "    <tr>\n",
       "      <th>3</th>\n",
       "      <td>4</td>\n",
       "      <td>17</td>\n",
       "      <td>Papa Murphy's (1580 Montgomery Highway)</td>\n",
       "      <td>NaN</td>\n",
       "      <td>NaN</td>\n",
       "      <td>Pizza</td>\n",
       "      <td>$</td>\n",
       "      <td>1580 Montgomery Highway, Hoover, AL, 35226</td>\n",
       "      <td>35226</td>\n",
       "      <td>33.404439</td>\n",
       "      <td>-86.806614</td>\n",
       "    </tr>\n",
       "    <tr>\n",
       "      <th>4</th>\n",
       "      <td>5</td>\n",
       "      <td>162</td>\n",
       "      <td>Nelson Brothers Cafe (17th St N)</td>\n",
       "      <td>4.7</td>\n",
       "      <td>22.0</td>\n",
       "      <td>Breakfast and Brunch, Burgers, Sandwiches</td>\n",
       "      <td>NaN</td>\n",
       "      <td>314 17th St N, Birmingham, AL, 35203</td>\n",
       "      <td>35203</td>\n",
       "      <td>33.514730</td>\n",
       "      <td>-86.811700</td>\n",
       "    </tr>\n",
       "    <tr>\n",
       "      <th>...</th>\n",
       "      <td>...</td>\n",
       "      <td>...</td>\n",
       "      <td>...</td>\n",
       "      <td>...</td>\n",
       "      <td>...</td>\n",
       "      <td>...</td>\n",
       "      <td>...</td>\n",
       "      <td>...</td>\n",
       "      <td>...</td>\n",
       "      <td>...</td>\n",
       "      <td>...</td>\n",
       "    </tr>\n",
       "    <tr>\n",
       "      <th>4995</th>\n",
       "      <td>4996</td>\n",
       "      <td>12</td>\n",
       "      <td>Legend Larry's</td>\n",
       "      <td>NaN</td>\n",
       "      <td>NaN</td>\n",
       "      <td>Wings, American, Fast Food</td>\n",
       "      <td>$$</td>\n",
       "      <td>921 S 10th St, Manitowoc, WI, 54220</td>\n",
       "      <td>54220</td>\n",
       "      <td>44.089550</td>\n",
       "      <td>-87.660370</td>\n",
       "    </tr>\n",
       "    <tr>\n",
       "      <th>4996</th>\n",
       "      <td>4997</td>\n",
       "      <td>7</td>\n",
       "      <td>Subway (311 N Rapids Rd)</td>\n",
       "      <td>NaN</td>\n",
       "      <td>NaN</td>\n",
       "      <td>Fast Food, Sandwich, American</td>\n",
       "      <td>$</td>\n",
       "      <td>311 N Rapids Rd, Manitowoc, WI, 54220</td>\n",
       "      <td>54220</td>\n",
       "      <td>44.098060</td>\n",
       "      <td>-87.700210</td>\n",
       "    </tr>\n",
       "    <tr>\n",
       "      <th>4997</th>\n",
       "      <td>4998</td>\n",
       "      <td>1</td>\n",
       "      <td>Walgreens (2702 CALUMET AVE)</td>\n",
       "      <td>NaN</td>\n",
       "      <td>NaN</td>\n",
       "      <td>Pharmacy, Convenience, Everyday Essentials, Baby</td>\n",
       "      <td>$</td>\n",
       "      <td>2702 Calumet Ave, Manitowoc, WI, 54220</td>\n",
       "      <td>54220</td>\n",
       "      <td>44.087770</td>\n",
       "      <td>-87.681570</td>\n",
       "    </tr>\n",
       "    <tr>\n",
       "      <th>4998</th>\n",
       "      <td>4999</td>\n",
       "      <td>2</td>\n",
       "      <td>Panda Express (4510 Calumet Ave.)</td>\n",
       "      <td>NaN</td>\n",
       "      <td>NaN</td>\n",
       "      <td>Asian, Chinese, Family Meals</td>\n",
       "      <td>$</td>\n",
       "      <td>4510 Calumet Ave., Manitowoc, WI, 54220</td>\n",
       "      <td>54220</td>\n",
       "      <td>44.074012</td>\n",
       "      <td>-87.705800</td>\n",
       "    </tr>\n",
       "    <tr>\n",
       "      <th>4999</th>\n",
       "      <td>5000</td>\n",
       "      <td>11</td>\n",
       "      <td>Covered Wagon Restaurant</td>\n",
       "      <td>NaN</td>\n",
       "      <td>NaN</td>\n",
       "      <td>Burgers, American, Sandwiches</td>\n",
       "      <td>$$</td>\n",
       "      <td>2013 N Rapids Rd, Manitowoc, WI, 54220</td>\n",
       "      <td>54220</td>\n",
       "      <td>44.122070</td>\n",
       "      <td>-87.708230</td>\n",
       "    </tr>\n",
       "  </tbody>\n",
       "</table>\n",
       "<p>5000 rows × 11 columns</p>\n",
       "</div>"
      ],
      "text/plain": [
       "        id  position                                            name  score  \\\n",
       "0        1        19               PJ Fresh (224 Daniel Payne Drive)    NaN   \n",
       "1        2         9                  J' ti`'z Smoothie-N-Coffee Bar    NaN   \n",
       "2        3         6  Philly Fresh Cheesesteaks (541-B Graymont Ave)    NaN   \n",
       "3        4        17         Papa Murphy's (1580 Montgomery Highway)    NaN   \n",
       "4        5       162                Nelson Brothers Cafe (17th St N)    4.7   \n",
       "...    ...       ...                                             ...    ...   \n",
       "4995  4996        12                                  Legend Larry's    NaN   \n",
       "4996  4997         7                        Subway (311 N Rapids Rd)    NaN   \n",
       "4997  4998         1                    Walgreens (2702 CALUMET AVE)    NaN   \n",
       "4998  4999         2               Panda Express (4510 Calumet Ave.)    NaN   \n",
       "4999  5000        11                        Covered Wagon Restaurant    NaN   \n",
       "\n",
       "      ratings                                          category price_range  \\\n",
       "0         NaN                     Burgers, American, Sandwiches           $   \n",
       "1         NaN  Coffee and Tea, Breakfast and Brunch, Bubble Tea         NaN   \n",
       "2         NaN        American, Cheesesteak, Sandwiches, Alcohol           $   \n",
       "3         NaN                                             Pizza           $   \n",
       "4        22.0         Breakfast and Brunch, Burgers, Sandwiches         NaN   \n",
       "...       ...                                               ...         ...   \n",
       "4995      NaN                        Wings, American, Fast Food          $$   \n",
       "4996      NaN                     Fast Food, Sandwich, American           $   \n",
       "4997      NaN  Pharmacy, Convenience, Everyday Essentials, Baby           $   \n",
       "4998      NaN                      Asian, Chinese, Family Meals           $   \n",
       "4999      NaN                     Burgers, American, Sandwiches          $$   \n",
       "\n",
       "                                           full_address zip_code        lat  \\\n",
       "0         224 Daniel Payne Drive, Birmingham, AL, 35207    35207  33.562365   \n",
       "1     1521 Pinson Valley Parkway, Birmingham, AL, 35217    35217  33.583640   \n",
       "2             541-B Graymont Ave, Birmingham, AL, 35204    35204  33.509800   \n",
       "3            1580 Montgomery Highway, Hoover, AL, 35226    35226  33.404439   \n",
       "4                  314 17th St N, Birmingham, AL, 35203    35203  33.514730   \n",
       "...                                                 ...      ...        ...   \n",
       "4995                921 S 10th St, Manitowoc, WI, 54220    54220  44.089550   \n",
       "4996              311 N Rapids Rd, Manitowoc, WI, 54220    54220  44.098060   \n",
       "4997             2702 Calumet Ave, Manitowoc, WI, 54220    54220  44.087770   \n",
       "4998            4510 Calumet Ave., Manitowoc, WI, 54220    54220  44.074012   \n",
       "4999             2013 N Rapids Rd, Manitowoc, WI, 54220    54220  44.122070   \n",
       "\n",
       "            lng  \n",
       "0    -86.830703  \n",
       "1    -86.773330  \n",
       "2    -86.854640  \n",
       "3    -86.806614  \n",
       "4    -86.811700  \n",
       "...         ...  \n",
       "4995 -87.660370  \n",
       "4996 -87.700210  \n",
       "4997 -87.681570  \n",
       "4998 -87.705800  \n",
       "4999 -87.708230  \n",
       "\n",
       "[5000 rows x 11 columns]"
      ]
     },
     "execution_count": 6,
     "metadata": {},
     "output_type": "execute_result"
    }
   ],
   "source": [
    "rstr.drop(['lat', 'lng'], axis = 1)\n",
    "rstr.head(2)"
   ]
  },
  {
   "cell_type": "code",
   "execution_count": 8,
   "id": "d432bba7",
   "metadata": {},
   "outputs": [
    {
     "data": {
      "text/html": [
       "<div>\n",
       "<style scoped>\n",
       "    .dataframe tbody tr th:only-of-type {\n",
       "        vertical-align: middle;\n",
       "    }\n",
       "\n",
       "    .dataframe tbody tr th {\n",
       "        vertical-align: top;\n",
       "    }\n",
       "\n",
       "    .dataframe thead th {\n",
       "        text-align: right;\n",
       "    }\n",
       "</style>\n",
       "<table border=\"1\" class=\"dataframe\">\n",
       "  <thead>\n",
       "    <tr style=\"text-align: right;\">\n",
       "      <th></th>\n",
       "      <th>Name</th>\n",
       "      <th>Age</th>\n",
       "      <th>University</th>\n",
       "    </tr>\n",
       "  </thead>\n",
       "  <tbody>\n",
       "    <tr>\n",
       "      <th>a</th>\n",
       "      <td>Ankit</td>\n",
       "      <td>23</td>\n",
       "      <td>BHU</td>\n",
       "    </tr>\n",
       "    <tr>\n",
       "      <th>b</th>\n",
       "      <td>Aishwarya</td>\n",
       "      <td>21</td>\n",
       "      <td>JNU</td>\n",
       "    </tr>\n",
       "    <tr>\n",
       "      <th>c</th>\n",
       "      <td>Shaurya</td>\n",
       "      <td>22</td>\n",
       "      <td>DU</td>\n",
       "    </tr>\n",
       "    <tr>\n",
       "      <th>d</th>\n",
       "      <td>Shivangi</td>\n",
       "      <td>21</td>\n",
       "      <td>BHU</td>\n",
       "    </tr>\n",
       "  </tbody>\n",
       "</table>\n",
       "</div>"
      ],
      "text/plain": [
       "        Name  Age University\n",
       "a      Ankit   23        BHU\n",
       "b  Aishwarya   21        JNU\n",
       "c    Shaurya   22         DU\n",
       "d   Shivangi   21        BHU"
      ]
     },
     "execution_count": 8,
     "metadata": {},
     "output_type": "execute_result"
    },
    {
     "data": {
      "text/html": [
       "<div>\n",
       "<style scoped>\n",
       "    .dataframe tbody tr th:only-of-type {\n",
       "        vertical-align: middle;\n",
       "    }\n",
       "\n",
       "    .dataframe tbody tr th {\n",
       "        vertical-align: top;\n",
       "    }\n",
       "\n",
       "    .dataframe thead th {\n",
       "        text-align: right;\n",
       "    }\n",
       "</style>\n",
       "<table border=\"1\" class=\"dataframe\">\n",
       "  <thead>\n",
       "    <tr style=\"text-align: right;\">\n",
       "      <th></th>\n",
       "      <th>Name</th>\n",
       "      <th>Age</th>\n",
       "      <th>University</th>\n",
       "    </tr>\n",
       "  </thead>\n",
       "  <tbody>\n",
       "    <tr>\n",
       "      <th>a</th>\n",
       "      <td>Ankit</td>\n",
       "      <td>23</td>\n",
       "      <td>BHU</td>\n",
       "    </tr>\n",
       "    <tr>\n",
       "      <th>d</th>\n",
       "      <td>Shivangi</td>\n",
       "      <td>21</td>\n",
       "      <td>BHU</td>\n",
       "    </tr>\n",
       "  </tbody>\n",
       "</table>\n",
       "</div>"
      ],
      "text/plain": [
       "       Name  Age University\n",
       "a     Ankit   23        BHU\n",
       "d  Shivangi   21        BHU"
      ]
     },
     "execution_count": 8,
     "metadata": {},
     "output_type": "execute_result"
    }
   ],
   "source": [
    "details = {\n",
    "    'Name' : ['Ankit', 'Aishwarya', 'Shaurya', 'Shivangi'],\n",
    "    'Age' : [23, 21, 22, 21],\n",
    "    'University' : ['BHU', 'JNU', 'DU', 'BHU'],\n",
    "}\n",
    " \n",
    "# creating a Dataframe object\n",
    "df = pd.DataFrame(details, columns = ['Name', 'Age', 'University'],\n",
    "                  index = ['a', 'b', 'c', 'd'])\n",
    "df\n",
    "# return a new dataframe by dropping a row\n",
    "# respective index position\n",
    "update_df = df.drop([df.index[1], df.index[2]])\n",
    " \n",
    "update_df"
   ]
  },
  {
   "cell_type": "code",
   "execution_count": 12,
   "id": "783536ec",
   "metadata": {},
   "outputs": [
    {
     "data": {
      "text/html": [
       "<div>\n",
       "<style scoped>\n",
       "    .dataframe tbody tr th:only-of-type {\n",
       "        vertical-align: middle;\n",
       "    }\n",
       "\n",
       "    .dataframe tbody tr th {\n",
       "        vertical-align: top;\n",
       "    }\n",
       "\n",
       "    .dataframe thead th {\n",
       "        text-align: right;\n",
       "    }\n",
       "</style>\n",
       "<table border=\"1\" class=\"dataframe\">\n",
       "  <thead>\n",
       "    <tr style=\"text-align: right;\">\n",
       "      <th></th>\n",
       "      <th>col_1</th>\n",
       "      <th>col_2</th>\n",
       "      <th>col_3</th>\n",
       "      <th>col_4</th>\n",
       "    </tr>\n",
       "  </thead>\n",
       "  <tbody>\n",
       "    <tr>\n",
       "      <th>0</th>\n",
       "      <td>0.383093</td>\n",
       "      <td>0.734143</td>\n",
       "      <td>0.475741</td>\n",
       "      <td>0.894286</td>\n",
       "    </tr>\n",
       "    <tr>\n",
       "      <th>1</th>\n",
       "      <td>0.371855</td>\n",
       "      <td>0.005821</td>\n",
       "      <td>0.849974</td>\n",
       "      <td>0.917499</td>\n",
       "    </tr>\n",
       "    <tr>\n",
       "      <th>2</th>\n",
       "      <td>0.832276</td>\n",
       "      <td>0.461542</td>\n",
       "      <td>0.148055</td>\n",
       "      <td>0.955943</td>\n",
       "    </tr>\n",
       "    <tr>\n",
       "      <th>3</th>\n",
       "      <td>0.923065</td>\n",
       "      <td>0.954169</td>\n",
       "      <td>0.814610</td>\n",
       "      <td>0.151957</td>\n",
       "    </tr>\n",
       "    <tr>\n",
       "      <th>4</th>\n",
       "      <td>0.930424</td>\n",
       "      <td>0.963021</td>\n",
       "      <td>0.285272</td>\n",
       "      <td>0.109711</td>\n",
       "    </tr>\n",
       "    <tr>\n",
       "      <th>5</th>\n",
       "      <td>0.222291</td>\n",
       "      <td>0.237967</td>\n",
       "      <td>0.436129</td>\n",
       "      <td>0.855975</td>\n",
       "    </tr>\n",
       "    <tr>\n",
       "      <th>6</th>\n",
       "      <td>0.474965</td>\n",
       "      <td>0.204732</td>\n",
       "      <td>0.260253</td>\n",
       "      <td>0.806131</td>\n",
       "    </tr>\n",
       "    <tr>\n",
       "      <th>7</th>\n",
       "      <td>0.537418</td>\n",
       "      <td>0.909244</td>\n",
       "      <td>0.900454</td>\n",
       "      <td>0.275852</td>\n",
       "    </tr>\n",
       "    <tr>\n",
       "      <th>8</th>\n",
       "      <td>0.908124</td>\n",
       "      <td>0.442006</td>\n",
       "      <td>0.646005</td>\n",
       "      <td>0.304634</td>\n",
       "    </tr>\n",
       "    <tr>\n",
       "      <th>9</th>\n",
       "      <td>0.678129</td>\n",
       "      <td>0.007090</td>\n",
       "      <td>0.043690</td>\n",
       "      <td>0.618833</td>\n",
       "    </tr>\n",
       "  </tbody>\n",
       "</table>\n",
       "</div>"
      ],
      "text/plain": [
       "      col_1     col_2     col_3     col_4\n",
       "0  0.383093  0.734143  0.475741  0.894286\n",
       "1  0.371855  0.005821  0.849974  0.917499\n",
       "2  0.832276  0.461542  0.148055  0.955943\n",
       "3  0.923065  0.954169  0.814610  0.151957\n",
       "4  0.930424  0.963021  0.285272  0.109711\n",
       "5  0.222291  0.237967  0.436129  0.855975\n",
       "6  0.474965  0.204732  0.260253  0.806131\n",
       "7  0.537418  0.909244  0.900454  0.275852\n",
       "8  0.908124  0.442006  0.646005  0.304634\n",
       "9  0.678129  0.007090  0.043690  0.618833"
      ]
     },
     "execution_count": 12,
     "metadata": {},
     "output_type": "execute_result"
    }
   ],
   "source": [
    "df = pd.DataFrame(np.random.rand(10, 4), columns=('col_1', 'col_2', 'col_3', 'col_4'))\n",
    "df"
   ]
  },
  {
   "cell_type": "markdown",
   "id": "00efbceb",
   "metadata": {},
   "source": [
    "#### Visualizing dataframe"
   ]
  },
  {
   "cell_type": "code",
   "execution_count": 13,
   "id": "bff7d535",
   "metadata": {},
   "outputs": [
    {
     "data": {
      "text/plain": [
       "<AxesSubplot:>"
      ]
     },
     "execution_count": 13,
     "metadata": {},
     "output_type": "execute_result"
    },
    {
     "data": {
      "image/png": "[encoded data removed]",
      "text/plain": [
       "<Figure size 432x288 with 1 Axes>"
      ]
     },
     "metadata": {
      "needs_background": "light"
     },
     "output_type": "display_data"
    }
   ],
   "source": [
    "df.plot()"
   ]
  },
  {
   "cell_type": "code",
   "execution_count": 14,
   "id": "41d79b2f",
   "metadata": {},
   "outputs": [
    {
     "data": {
      "text/plain": [
       "<AxesSubplot:>"
      ]
     },
     "execution_count": 14,
     "metadata": {},
     "output_type": "execute_result"
    },
    {
     "data": {
      "image/png": "[encoded data removed]",
      "text/plain": [
       "<Figure size 432x288 with 1 Axes>"
      ]
     },
     "metadata": {
      "needs_background": "light"
     },
     "output_type": "display_data"
    }
   ],
   "source": [
    "df.plot(kind=\"bar\")"
   ]
  },
  {
   "cell_type": "code",
   "execution_count": 15,
   "id": "e295d63c",
   "metadata": {},
   "outputs": [
    {
     "data": {
      "text/plain": [
       "<AxesSubplot:>"
      ]
     },
     "execution_count": 15,
     "metadata": {},
     "output_type": "execute_result"
    },
    {
     "data": {
      "image/png": "[encoded data removed]",
      "text/plain": [
       "<Figure size 432x288 with 1 Axes>"
      ]
     },
     "metadata": {
      "needs_background": "light"
     },
     "output_type": "display_data"
    }
   ],
   "source": [
    "df.plot.bar(stacked=True)"
   ]
  },
  {
   "cell_type": "code",
   "execution_count": 16,
   "id": "a0f5c9fa",
   "metadata": {},
   "outputs": [
    {
     "data": {
      "text/plain": [
       "<AxesSubplot:>"
      ]
     },
     "execution_count": 16,
     "metadata": {},
     "output_type": "execute_result"
    },
    {
     "data": {
      "image/png": "[encoded data removed]",
      "text/plain": [
       "<Figure size 432x288 with 1 Axes>"
      ]
     },
     "metadata": {
      "needs_background": "light"
     },
     "output_type": "display_data"
    }
   ],
   "source": [
    "df.plot.barh(stacked=True)"
   ]
  },
  {
   "cell_type": "code",
   "execution_count": 19,
   "id": "f5ddc3bf",
   "metadata": {},
   "outputs": [
    {
     "data": {
      "text/plain": [
       "<AxesSubplot:>"
      ]
     },
     "execution_count": 19,
     "metadata": {},
     "output_type": "execute_result"
    },
    {
     "data": {
      "image/png": "[encoded data removed]",
      "text/plain": [
       "<Figure size 432x288 with 1 Axes>"
      ]
     },
     "metadata": {
      "needs_background": "light"
     },
     "output_type": "display_data"
    }
   ],
   "source": [
    "df.boxplot()"
   ]
  },
  {
   "cell_type": "code",
   "execution_count": 18,
   "id": "5cd12925",
   "metadata": {},
   "outputs": [
    {
     "data": {
      "text/plain": [
       "<AxesSubplot:xlabel='col_1'>"
      ]
     },
     "execution_count": 18,
     "metadata": {},
     "output_type": "execute_result"
    },
    {
     "data": {
      "image/png": "[encoded data removed]",
      "text/plain": [
       "<Figure size 432x288 with 1 Axes>"
      ]
     },
     "metadata": {
      "needs_background": "light"
     },
     "output_type": "display_data"
    }
   ],
   "source": [
    "df.plot(x=\"col_1\", y=\"col_2\")"
   ]
  }
 ],
 "metadata": {
  "kernelspec": {
   "display_name": "Python 3 (ipykernel)",
   "language": "python",
   "name": "python3"
  },
  "language_info": {
   "codemirror_mode": {
    "name": "ipython",
    "version": 3
   },
   "file_extension": ".py",
   "mimetype": "text/x-python",
   "name": "python",
   "nbconvert_exporter": "python",
   "pygments_lexer": "ipython3",
   "version": "3.9.7"
  }
 },
 "nbformat": 4,
 "nbformat_minor": 5
}
